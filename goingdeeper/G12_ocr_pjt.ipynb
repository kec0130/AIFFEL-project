{
 "cells": [
  {
   "cell_type": "markdown",
   "metadata": {
    "toc": true
   },
   "source": [
    "<h1>Contents<span class=\"tocSkip\"></span></h1>\n",
    "<div class=\"toc\"><ul class=\"toc-item\"><li><span><a href=\"#Recognition-model\" data-toc-modified-id=\"Recognition-model-1\">Recognition model</a></span><ul class=\"toc-item\"><li><span><a href=\"#Input-Image\" data-toc-modified-id=\"Input-Image-1.1\">Input Image</a></span></li><li><span><a href=\"#Encode\" data-toc-modified-id=\"Encode-1.2\">Encode</a></span></li><li><span><a href=\"#Build-CRNN-model\" data-toc-modified-id=\"Build-CRNN-model-1.3\">Build CRNN model</a></span></li><li><span><a href=\"#Train-&amp;-Inference\" data-toc-modified-id=\"Train-&amp;-Inference-1.4\">Train &amp; Inference</a></span></li></ul></li><li><span><a href=\"#프로젝트:-End-to-End-OCR\" data-toc-modified-id=\"프로젝트:-End-to-End-OCR-2\">프로젝트: End-to-End OCR</a></span></li></ul></div>"
   ]
  },
  {
   "cell_type": "markdown",
   "metadata": {},
   "source": [
    "# Recognition model\n",
    "## Input Image\n",
    "- lmdb를 통해 훈련데이터셋의 이미지를 열어서 확인: 대부분 height는 31, 최대 32로 되어 있고, width는 문자열 길이에 따라 다양\n",
    "- lmdb를 활용하여 케라스 모델 학습용 MJ Synth 데이터셋 클래스 구현\n",
    "    - `_get_img_label()`: 이미지 데이터를 img, label의 쌍으로 가져오는 메소드, 다양한 사이즈의 이미지를 모두 height 32, width 최대 100으로 맞추게끔 가공\n",
    "    - `__getitem__()`: `model.fit()`에서 호출되어 배치 단위만큼 `_get_img_label()`를 통해 가져온 데이터셋을 리턴"
   ]
  },
  {
   "cell_type": "code",
   "execution_count": 1,
   "metadata": {},
   "outputs": [
    {
     "name": "stdout",
     "output_type": "stream",
     "text": [
      "/home/ssac21/aiffel/ocr/MJ/MJ_train\n"
     ]
    }
   ],
   "source": [
    "import re\n",
    "import six\n",
    "import math\n",
    "import lmdb\n",
    "import os\n",
    "import numpy as np\n",
    "import tensorflow as tf\n",
    "\n",
    "from PIL import Image\n",
    "\n",
    "from tensorflow.keras import layers\n",
    "from tensorflow.keras.models import Model\n",
    "from tensorflow.keras.utils import Sequence\n",
    "from tensorflow.keras import backend as K\n",
    "from tensorflow.keras.models import load_model\n",
    "\n",
    "BATCH_SIZE = 128\n",
    "HOME_DIR = os.getenv('HOME')+'/aiffel/ocr'\n",
    "\n",
    "# 로컬 사용자\n",
    "TRAIN_DATA_PATH = HOME_DIR+'/MJ/MJ_train'\n",
    "VALID_DATA_PATH = HOME_DIR+'/MJ/MJ_valid'\n",
    "TEST_DATA_PATH = HOME_DIR+'/MJ/MJ_test'\n",
    "\n",
    "print(TRAIN_DATA_PATH)"
   ]
  },
  {
   "cell_type": "code",
   "execution_count": 2,
   "metadata": {},
   "outputs": [
    {
     "name": "stdout",
     "output_type": "stream",
     "text": [
      "original image width:72, height:31\n",
      "target_img_size:(74, 32)\n",
      "display img shape:(74, 32, 3)\n",
      "label:Lube\n"
     ]
    },
    {
     "data": {
      "image/png": "[encoded data removed]",
      "text/plain": [
       "<PIL.Image.Image image mode=RGB size=74x32 at 0x7F54CC67DD10>"
      ]
     },
     "metadata": {},
     "output_type": "display_data"
    },
    {
     "name": "stdout",
     "output_type": "stream",
     "text": [
      "original image width:82, height:31\n",
      "target_img_size:(84, 32)\n",
      "display img shape:(84, 32, 3)\n",
      "label:Spencerian\n"
     ]
    },
    {
     "data": {
      "image/png": "[encoded data removed]",
      "text/plain": [
       "<PIL.Image.Image image mode=RGB size=84x32 at 0x7F554456B8D0>"
      ]
     },
     "metadata": {},
     "output_type": "display_data"
    },
    {
     "name": "stdout",
     "output_type": "stream",
     "text": [
      "original image width:115, height:31\n",
      "target_img_size:(100, 32)\n",
      "display img shape:(100, 32, 3)\n",
      "label:accommodatingly\n"
     ]
    },
    {
     "data": {
      "image/png": "[encoded data removed]",
      "text/plain": [
       "<PIL.Image.Image image mode=RGB size=100x32 at 0x7F54CC67DFD0>"
      ]
     },
     "metadata": {},
     "output_type": "display_data"
    },
    {
     "name": "stdout",
     "output_type": "stream",
     "text": [
      "original image width:140, height:31\n",
      "target_img_size:(100, 32)\n",
      "display img shape:(100, 32, 3)\n",
      "label:CARPENTER\n"
     ]
    },
    {
     "data": {
      "image/png": "[encoded data removed]",
      "text/plain": [
       "<PIL.Image.Image image mode=RGB size=100x32 at 0x7F54CC67DFD0>"
      ]
     },
     "metadata": {},
     "output_type": "display_data"
    }
   ],
   "source": [
    "from IPython.display import display\n",
    "\n",
    "env = lmdb.open(TRAIN_DATA_PATH, max_readers=32, readonly=True, lock=False, readahead=False, meminit=False)\n",
    "with env.begin(write=False) as txn:\n",
    "    for index in range(1, 5):\n",
    "        label_key = 'label-%09d'.encode() % index\n",
    "        label = txn.get(label_key).decode('utf-8')\n",
    "        img_key = 'image-%09d'.encode() % index\n",
    "        imgbuf = txn.get(img_key)\n",
    "        buf = six.BytesIO()\n",
    "        buf.write(imgbuf)\n",
    "        buf.seek(0)\n",
    "        try:\n",
    "            img = Image.open(buf).convert('RGB')\n",
    "\n",
    "        except IOError:\n",
    "            img = Image.new('RGB', (100, 32))\n",
    "            label = '-'\n",
    "        width, height = img.size\n",
    "        print('original image width:{}, height:{}'.format(width, height))\n",
    "        \n",
    "        target_width = min(int(width*32/height), 100)\n",
    "        target_img_size = (target_width,32 )\n",
    "        \n",
    "        print('target_img_size:{}'.format(target_img_size))\n",
    "        \n",
    "        img = np.array(img.resize(target_img_size)).transpose(1,0,2)\n",
    "       \n",
    "        print('display img shape:{}'.format(img.shape))\n",
    "        print('label:{}'.format(label))\n",
    "        display(Image.fromarray(img.transpose(1,0,2).astype(np.uint8)))"
   ]
  },
  {
   "cell_type": "code",
   "execution_count": 3,
   "metadata": {},
   "outputs": [],
   "source": [
    "class MJDatasetSequence(Sequence):\n",
    "    def __init__(self, \n",
    "                      dataset_path,\n",
    "                      label_converter,   # 문자를 미리 정의된 index로 변환해주는 converter\n",
    "                      batch_size=1,\n",
    "                      img_size=(100,32),\n",
    "                      max_text_len=22,   # 필터링을 위한 최대 글자 수\n",
    "                      is_train=False,\n",
    "                      character=''       # 학습대상으로 한정하기 위한 character\n",
    "                ):\n",
    "        \n",
    "        self.label_converter = label_converter\n",
    "        self.batch_size = batch_size\n",
    "        self.img_size = img_size\n",
    "        self.max_text_len = max_text_len\n",
    "        self.character = character\n",
    "        self.is_train = is_train\n",
    "        self.divide_length = 100\n",
    "\n",
    "        self.env = lmdb.open(dataset_path, max_readers=32, readonly=True, lock=False, readahead=False, meminit=False)\n",
    "        with self.env.begin(write=False) as txn:\n",
    "            num_samples = int(txn.get('num-samples'.encode()))\n",
    "            self.num_samples = int(num_samples)\n",
    "            self.index_list = [index + 1 for index in range(self.num_samples)]\n",
    "        \n",
    "    def __len__(self):\n",
    "        if self.is_train:\n",
    "            return math.ceil(self.num_samples/self.batch_size/self.divide_length)\n",
    "        return math.ceil(self.num_samples/self.batch_size/self.divide_length)\n",
    "    \n",
    "    # index에 해당하는 image와 label을 가져오는 메소드\n",
    "    def _get_img_label(self, index):\n",
    "        with self.env.begin(write=False) as txn:\n",
    "            label_key = 'label-%09d'.encode() % index\n",
    "            label = txn.get(label_key).decode('utf-8')\n",
    "            img_key = 'image-%09d'.encode() % index\n",
    "            imgbuf = txn.get(img_key)\n",
    "\n",
    "            buf = six.BytesIO()\n",
    "            buf.write(imgbuf)\n",
    "            buf.seek(0)\n",
    "            try:\n",
    "                img = Image.open(buf).convert('RGB')\n",
    "\n",
    "            except IOError:\n",
    "                img = Image.new('RGB', self.img_size)\n",
    "                label = '-'\n",
    "            width, height = img.size\n",
    "            \n",
    "            target_width = min(int(width*self.img_size[1]/height), self.img_size[0])\n",
    "            target_img_size = (target_width,self.img_size[1] )\n",
    "            img = np.array(img.resize(target_img_size)).transpose(1,0,2)\n",
    "            label = label.upper()[:self.max_text_len]\n",
    "            out_of_char = f'[^{self.character}]'\n",
    "            label = re.sub(out_of_char, '', label)\n",
    "\n",
    "        return (img, label)\n",
    "    \n",
    "    # idx번째 배치를 가져오는 메소드\n",
    "    def __getitem__(self, idx):\n",
    "        batch_indicies = self.index_list[\n",
    "            idx*self.batch_size:\n",
    "            (idx+1)*self.batch_size\n",
    "        ]\n",
    "        input_images = np.zeros([self.batch_size, *self.img_size, 3])\n",
    "        labels = np.zeros([self.batch_size, self.max_text_len], dtype='int64')\n",
    "\n",
    "        input_length = np.ones([self.batch_size], dtype='int64')*self.max_text_len\n",
    "        label_length = np.ones([self.batch_size], dtype='int64')\n",
    "\n",
    "        for i, index in enumerate(batch_indicies):\n",
    "            img, label = self._get_img_label(index)\n",
    "            encoded_label = self.label_converter.encode(label)\n",
    "            width = img.shape[0]\n",
    "            input_images[i,:width,:,:] = img\n",
    "            if len(encoded_label) > self.max_text_len:\n",
    "                continue\n",
    "            labels[i,0:len(encoded_label)] = encoded_label\n",
    "            label_length[i] = len(encoded_label)\n",
    "\n",
    "        inputs = {\n",
    "            'input_image': input_images,\n",
    "            'label': labels,\n",
    "            'input_length': input_length,\n",
    "            'label_length': label_length,\n",
    "        }\n",
    "        outputs = {'ctc': np.zeros([self.batch_size, 1])}\n",
    "        return inputs, outputs\n",
    "        \n",
    "    def on_epoch_end(self):\n",
    "        self.index_list =  [index + 1 for index in range(self.num_samples)]\n",
    "        if self.is_train :\n",
    "            np.random.shuffle(self.index_list)\n",
    "            return self.index_list"
   ]
  },
  {
   "cell_type": "markdown",
   "metadata": {},
   "source": [
    "## Encode\n",
    "- 이미지의 Label이 평문 Text로 이루어져 있으므로, 각 Character를 class로 생각하고 이를 step에 따른 class index로 변환해서 encode 해주어야 합니다.\n",
    "    - `__init__()`: 입력으로 받은 text를 `self.dict`에 각 character들이 어떤 index에 매핑되는지 저장합니다. 이 character와 index 정보를 통해 모델이 학습할 수 있는 output이 만들어집니다. 만약 character='ABCD'라면 'A'의 label은 1, 'B'의 label은 2가 됩니다.\n",
    "    - 공백(blank) 문자 지정: 공백 문자를 뜻하기 위해 '-'를 활용하며, label은 0으로 지정합니다.\n",
    "    - `encode()`: 입력받은 text를 모델이 학습할 수 있는 label로 변환해줍니다. 같은 글자가 연속으로 이어지는 경우에는 그 사이에 공백 문자의 label을 포함해야 합니다.\n",
    "    - `decode()`: 각 index를 다시 character로 변환한 후 이어주어 우리가 읽을 수 있는 text로 바꾸어줍니다."
   ]
  },
  {
   "cell_type": "code",
   "execution_count": 4,
   "metadata": {},
   "outputs": [],
   "source": [
    "class LabelConverter(object):\n",
    "    \"\"\" Convert between text-label and text-index \"\"\"\n",
    "\n",
    "    def __init__(self, character):\n",
    "        self.character = \"-\" + character\n",
    "        self.label_map = dict()\n",
    "        for i, char in enumerate(self.character):\n",
    "            self.label_map[char] = i\n",
    "\n",
    "    def encode(self, text):\n",
    "        encoded_label = []\n",
    "        for i, char in enumerate(text):\n",
    "            if i > 0 and char == text[i - 1]:\n",
    "                encoded_label.append(0)    # 같은 문자 사이에 공백 문자 label을 삽입\n",
    "            encoded_label.append(self.label_map[char])\n",
    "        return np.array(encoded_label)\n",
    "\n",
    "    def decode(self, encoded_label):\n",
    "        target_characters = list(self.character)\n",
    "        decoded_label = \"\"\n",
    "        for encode in encoded_label:\n",
    "            decoded_label += self.character[encode]\n",
    "        return decoded_label"
   ]
  },
  {
   "cell_type": "code",
   "execution_count": 5,
   "metadata": {},
   "outputs": [
    {
     "name": "stdout",
     "output_type": "stream",
     "text": [
      "The total number of characters is 36\n"
     ]
    }
   ],
   "source": [
    "NUMBERS = \"0123456789\"\n",
    "ENG_CHAR_UPPER = \"ABCDEFGHIJKLMNOPQRSTUVWXYZ\"\n",
    "TARGET_CHARACTERS = ENG_CHAR_UPPER + NUMBERS\n",
    "print(f\"The total number of characters is {len(TARGET_CHARACTERS)}\")"
   ]
  },
  {
   "cell_type": "code",
   "execution_count": 6,
   "metadata": {},
   "outputs": [
    {
     "name": "stdout",
     "output_type": "stream",
     "text": [
      "Encdoded_text:  [ 8  5 12  0 12 15]\n",
      "Decoded_text:  HEL-LO\n"
     ]
    }
   ],
   "source": [
    "# 'HELLO'를 Encode한 후 Decode가 정상적으로 되는지 확인\n",
    "label_converter = LabelConverter(TARGET_CHARACTERS)\n",
    "\n",
    "encdoded_text = label_converter.encode('HELLO')\n",
    "print(\"Encdoded_text: \", encdoded_text)\n",
    "decoded_text = label_converter.decode(encdoded_text)\n",
    "print(\"Decoded_text: \", decoded_text)"
   ]
  },
  {
   "cell_type": "markdown",
   "metadata": {},
   "source": [
    "## Build CRNN model\n",
    "- `ctc_lambda_func`: Keras에서 제공하는 `K.ctc_batch_cost()`를 활용해서 CTC loss를 계산하기 위한 함수\n",
    "    - 이미지에서 텍스트 라벨을 추론해야 하는 Text recognition 태스크에 CTC Loss를 사용합니다.\n",
    "    - 입력의 길이 T와 라벨의 길이 U의 단위가 일치하지 않을 때, 라벨은 APPLE이지만 모델이 출력한 결과는 AAAPPPPLLLLEE 처럼 나올 수 있습니다. 이런 이유로 이전 스텝에서 `LabelConverter.encode()` 메소드에 공백문자 처리로직을 포함했던 것입니다.\n",
    "- `build_crnn_model()`: `K.ctc_batch_cost()`를 활용하여, image_input을 입력으로 그리고 마지막 Label을 'output'이라는 이름으로 출력하는 레이어를 갖도록 모델을 만드는 함수"
   ]
  },
  {
   "cell_type": "code",
   "execution_count": 7,
   "metadata": {},
   "outputs": [],
   "source": [
    "def ctc_lambda_func(args): # CTC loss를 계산하기 위한 Lambda 함수\n",
    "    labels, y_pred, label_length, input_length = args\n",
    "    y_pred = y_pred[:, 2:, :]\n",
    "    return K.ctc_batch_cost(labels, y_pred, input_length, label_length)"
   ]
  },
  {
   "cell_type": "code",
   "execution_count": 8,
   "metadata": {},
   "outputs": [],
   "source": [
    "def build_crnn_model(input_shape=(100,32,3), characters=TARGET_CHARACTERS):\n",
    "    num_chars = len(characters)+2\n",
    "    image_input = layers.Input(shape=input_shape, dtype='float32', name='input_image')\n",
    "\n",
    "    # Build CRNN model\n",
    "    conv = layers.Conv2D(64, (3, 3), activation='relu', padding='same', kernel_initializer='he_normal')(image_input)\n",
    "    conv = layers.MaxPooling2D(pool_size=(2, 2))(conv)\n",
    "    conv = layers.Conv2D(128, (3, 3), activation='relu', padding='same', kernel_initializer='he_normal')(conv)\n",
    "    conv = layers.MaxPooling2D(pool_size=(2, 2))(conv)\n",
    "    conv = layers.Conv2D(256, (3, 3), activation='relu', padding='same', kernel_initializer='he_normal')(conv)\n",
    "    conv = layers.Conv2D(256, (3, 3), activation='relu', padding='same', kernel_initializer='he_normal')(conv)\n",
    "    conv = layers.MaxPooling2D(pool_size=(1, 2))(conv)\n",
    "    conv = layers.Conv2D(512, (3, 3), activation='relu', padding='same', kernel_initializer='he_normal')(conv)\n",
    "    conv = layers.BatchNormalization()(conv)\n",
    "    conv = layers.Conv2D(512, (3, 3), activation='relu', padding='same', kernel_initializer='he_normal')(conv)\n",
    "    conv = layers.BatchNormalization()(conv)\n",
    "    conv = layers.MaxPooling2D(pool_size=(1, 2))(conv)     \n",
    "    feature = layers.Conv2D(512, (2, 2), activation='relu', kernel_initializer='he_normal')(conv)\n",
    "    sequnce = layers.Reshape(target_shape=(24, 512))(feature)\n",
    "    sequnce = layers.Dense(64, activation='relu')(sequnce)\n",
    "    sequnce = layers.Bidirectional(layers.LSTM(256, return_sequences=True))(sequnce)\n",
    "    sequnce = layers.Bidirectional(layers.LSTM(256, return_sequences=True))(sequnce)\n",
    "    y_pred = layers.Dense(num_chars, activation='softmax', name='output')(sequnce)\n",
    "\n",
    "    labels = layers.Input(shape=[22], dtype='int64', name='label')\n",
    "    input_length = layers.Input(shape=[1], dtype='int64', name='input_length')\n",
    "    label_length = layers.Input(shape=[1], dtype='int64', name='label_length')\n",
    "    loss_out = layers.Lambda(ctc_lambda_func, output_shape=(1,), name=\"ctc\")(\n",
    "        [labels, y_pred, label_length, input_length]\n",
    "    )\n",
    "    model_input = [image_input, labels, input_length, label_length]\n",
    "    model = Model(\n",
    "        inputs=model_input,\n",
    "        outputs=loss_out\n",
    "    )\n",
    "    y_func = tf.keras.backend.function(image_input, [y_pred])\n",
    "    return model, y_func"
   ]
  },
  {
   "cell_type": "markdown",
   "metadata": {},
   "source": [
    "## Train & Inference\n",
    "- 앞에서 정의한 `MJDatasetSequence`로 데이터를 적절히 분리하여 구성된 데이터셋을 통해 학습 진행\n",
    "- 학습한 모델을 테스트셋에서 inference해보고 결과를 직접 확인"
   ]
  },
  {
   "cell_type": "code",
   "execution_count": 9,
   "metadata": {},
   "outputs": [
    {
     "name": "stdout",
     "output_type": "stream",
     "text": [
      "Epoch 1/100\n",
      "63/63 [==============================] - ETA: 0s - loss: 29.0787\n",
      "Epoch 00001: val_loss improved from inf to 27.01467, saving model to /home/ssac21/aiffel/ocr/model_checkpoint.hdf5\n",
      "63/63 [==============================] - 19s 296ms/step - loss: 29.0787 - val_loss: 27.0147\n",
      "Epoch 2/100\n",
      "63/63 [==============================] - ETA: 0s - loss: 26.4252\n",
      "Epoch 00002: val_loss improved from 27.01467 to 26.36277, saving model to /home/ssac21/aiffel/ocr/model_checkpoint.hdf5\n",
      "63/63 [==============================] - 10s 158ms/step - loss: 26.4252 - val_loss: 26.3628\n",
      "Epoch 3/100\n",
      "63/63 [==============================] - ETA: 0s - loss: 25.9576\n",
      "Epoch 00003: val_loss improved from 26.36277 to 25.97330, saving model to /home/ssac21/aiffel/ocr/model_checkpoint.hdf5\n",
      "63/63 [==============================] - 10s 158ms/step - loss: 25.9576 - val_loss: 25.9733\n",
      "Epoch 4/100\n",
      "63/63 [==============================] - ETA: 0s - loss: 25.4923\n",
      "Epoch 00004: val_loss did not improve from 25.97330\n",
      "63/63 [==============================] - 11s 169ms/step - loss: 25.4923 - val_loss: 27.2809\n",
      "Epoch 5/100\n",
      "63/63 [==============================] - ETA: 0s - loss: 25.3366\n",
      "Epoch 00005: val_loss improved from 25.97330 to 25.53941, saving model to /home/ssac21/aiffel/ocr/model_checkpoint.hdf5\n",
      "63/63 [==============================] - 11s 167ms/step - loss: 25.3366 - val_loss: 25.5394\n",
      "Epoch 6/100\n",
      "63/63 [==============================] - ETA: 0s - loss: 24.7751 E\n",
      "Epoch 00006: val_loss improved from 25.53941 to 24.92360, saving model to /home/ssac21/aiffel/ocr/model_checkpoint.hdf5\n",
      "63/63 [==============================] - 11s 167ms/step - loss: 24.7751 - val_loss: 24.9236\n",
      "Epoch 7/100\n",
      "63/63 [==============================] - ETA: 0s - loss: 24.4222\n",
      "Epoch 00007: val_loss did not improve from 24.92360\n",
      "63/63 [==============================] - 10s 164ms/step - loss: 24.4222 - val_loss: 24.9864\n",
      "Epoch 8/100\n",
      "63/63 [==============================] - ETA: 0s - loss: 23.7072\n",
      "Epoch 00008: val_loss improved from 24.92360 to 24.34373, saving model to /home/ssac21/aiffel/ocr/model_checkpoint.hdf5\n",
      "63/63 [==============================] - 10s 158ms/step - loss: 23.7072 - val_loss: 24.3437\n",
      "Epoch 9/100\n",
      "63/63 [==============================] - ETA: 0s - loss: 22.9203\n",
      "Epoch 00009: val_loss improved from 24.34373 to 23.01718, saving model to /home/ssac21/aiffel/ocr/model_checkpoint.hdf5\n",
      "63/63 [==============================] - 10s 153ms/step - loss: 22.9203 - val_loss: 23.0172\n",
      "Epoch 10/100\n",
      "63/63 [==============================] - ETA: 0s - loss: 21.9821\n",
      "Epoch 00010: val_loss improved from 23.01718 to 22.62216, saving model to /home/ssac21/aiffel/ocr/model_checkpoint.hdf5\n",
      "63/63 [==============================] - 10s 159ms/step - loss: 21.9821 - val_loss: 22.6222\n",
      "Epoch 11/100\n",
      "63/63 [==============================] - ETA: 0s - loss: 20.3712\n",
      "Epoch 00011: val_loss improved from 22.62216 to 21.31444, saving model to /home/ssac21/aiffel/ocr/model_checkpoint.hdf5\n",
      "63/63 [==============================] - 11s 172ms/step - loss: 20.3712 - val_loss: 21.3144\n",
      "Epoch 12/100\n",
      "63/63 [==============================] - ETA: 0s - loss: 18.3633\n",
      "Epoch 00012: val_loss improved from 21.31444 to 18.56699, saving model to /home/ssac21/aiffel/ocr/model_checkpoint.hdf5\n",
      "63/63 [==============================] - 10s 156ms/step - loss: 18.3633 - val_loss: 18.5670\n",
      "Epoch 13/100\n",
      "63/63 [==============================] - ETA: 0s - loss: 16.1752\n",
      "Epoch 00013: val_loss improved from 18.56699 to 18.04191, saving model to /home/ssac21/aiffel/ocr/model_checkpoint.hdf5\n",
      "63/63 [==============================] - 10s 153ms/step - loss: 16.1752 - val_loss: 18.0419\n",
      "Epoch 14/100\n",
      "63/63 [==============================] - ETA: 0s - loss: 14.1106\n",
      "Epoch 00014: val_loss improved from 18.04191 to 14.43238, saving model to /home/ssac21/aiffel/ocr/model_checkpoint.hdf5\n",
      "63/63 [==============================] - 10s 155ms/step - loss: 14.1106 - val_loss: 14.4324\n",
      "Epoch 15/100\n",
      "63/63 [==============================] - ETA: 0s - loss: 12.3186\n",
      "Epoch 00015: val_loss improved from 14.43238 to 13.19183, saving model to /home/ssac21/aiffel/ocr/model_checkpoint.hdf5\n",
      "63/63 [==============================] - 11s 172ms/step - loss: 12.3186 - val_loss: 13.1918\n",
      "Epoch 16/100\n",
      "63/63 [==============================] - ETA: 0s - loss: 11.0742\n",
      "Epoch 00016: val_loss improved from 13.19183 to 11.34624, saving model to /home/ssac21/aiffel/ocr/model_checkpoint.hdf5\n",
      "63/63 [==============================] - 11s 173ms/step - loss: 11.0742 - val_loss: 11.3462\n",
      "Epoch 17/100\n",
      "63/63 [==============================] - ETA: 0s - loss: 10.3639\n",
      "Epoch 00017: val_loss improved from 11.34624 to 10.96834, saving model to /home/ssac21/aiffel/ocr/model_checkpoint.hdf5\n",
      "63/63 [==============================] - 11s 168ms/step - loss: 10.3639 - val_loss: 10.9683\n",
      "Epoch 18/100\n",
      "63/63 [==============================] - ETA: 0s - loss: 9.4223\n",
      "Epoch 00018: val_loss improved from 10.96834 to 10.88832, saving model to /home/ssac21/aiffel/ocr/model_checkpoint.hdf5\n",
      "63/63 [==============================] - 11s 168ms/step - loss: 9.4223 - val_loss: 10.8883\n",
      "Epoch 19/100\n",
      "63/63 [==============================] - ETA: 0s - loss: 8.8402\n",
      "Epoch 00019: val_loss improved from 10.88832 to 9.38840, saving model to /home/ssac21/aiffel/ocr/model_checkpoint.hdf5\n",
      "63/63 [==============================] - 10s 160ms/step - loss: 8.8402 - val_loss: 9.3884\n",
      "Epoch 20/100\n",
      "63/63 [==============================] - ETA: 0s - loss: 8.3129\n",
      "Epoch 00020: val_loss improved from 9.38840 to 8.73179, saving model to /home/ssac21/aiffel/ocr/model_checkpoint.hdf5\n",
      "63/63 [==============================] - 10s 166ms/step - loss: 8.3129 - val_loss: 8.7318\n",
      "Epoch 21/100\n",
      "63/63 [==============================] - ETA: 0s - loss: 7.9645\n",
      "Epoch 00021: val_loss improved from 8.73179 to 8.26524, saving model to /home/ssac21/aiffel/ocr/model_checkpoint.hdf5\n",
      "63/63 [==============================] - 9s 147ms/step - loss: 7.9645 - val_loss: 8.2652\n",
      "Epoch 22/100\n",
      "63/63 [==============================] - ETA: 0s - loss: 7.4193\n",
      "Epoch 00022: val_loss improved from 8.26524 to 7.70527, saving model to /home/ssac21/aiffel/ocr/model_checkpoint.hdf5\n",
      "63/63 [==============================] - 9s 145ms/step - loss: 7.4193 - val_loss: 7.7053\n",
      "Epoch 23/100\n",
      "63/63 [==============================] - ETA: 0s - loss: 7.2754\n",
      "Epoch 00023: val_loss improved from 7.70527 to 7.53905, saving model to /home/ssac21/aiffel/ocr/model_checkpoint.hdf5\n",
      "63/63 [==============================] - 9s 149ms/step - loss: 7.2754 - val_loss: 7.5390\n",
      "Epoch 24/100\n",
      "63/63 [==============================] - ETA: 0s - loss: 7.0891\n",
      "Epoch 00024: val_loss improved from 7.53905 to 7.13731, saving model to /home/ssac21/aiffel/ocr/model_checkpoint.hdf5\n",
      "63/63 [==============================] - 9s 147ms/step - loss: 7.0891 - val_loss: 7.1373\n",
      "Epoch 25/100\n",
      "63/63 [==============================] - ETA: 0s - loss: 6.6975\n",
      "Epoch 00025: val_loss improved from 7.13731 to 6.96767, saving model to /home/ssac21/aiffel/ocr/model_checkpoint.hdf5\n",
      "63/63 [==============================] - 9s 145ms/step - loss: 6.6975 - val_loss: 6.9677\n",
      "Epoch 26/100\n",
      "63/63 [==============================] - ETA: 0s - loss: 6.4769\n",
      "Epoch 00026: val_loss improved from 6.96767 to 6.68255, saving model to /home/ssac21/aiffel/ocr/model_checkpoint.hdf5\n",
      "63/63 [==============================] - 9s 144ms/step - loss: 6.4769 - val_loss: 6.6825\n",
      "Epoch 27/100\n",
      "63/63 [==============================] - ETA: 0s - loss: 6.4087\n",
      "Epoch 00027: val_loss did not improve from 6.68255\n",
      "63/63 [==============================] - 9s 143ms/step - loss: 6.4087 - val_loss: 6.9856\n",
      "Epoch 28/100\n",
      "63/63 [==============================] - ETA: 0s - loss: 6.2276\n",
      "Epoch 00028: val_loss improved from 6.68255 to 6.38102, saving model to /home/ssac21/aiffel/ocr/model_checkpoint.hdf5\n",
      "63/63 [==============================] - 10s 162ms/step - loss: 6.2276 - val_loss: 6.3810\n",
      "Epoch 29/100\n",
      "63/63 [==============================] - ETA: 0s - loss: 5.8501\n",
      "Epoch 00029: val_loss improved from 6.38102 to 6.14751, saving model to /home/ssac21/aiffel/ocr/model_checkpoint.hdf5\n",
      "63/63 [==============================] - 10s 154ms/step - loss: 5.8501 - val_loss: 6.1475\n",
      "Epoch 30/100\n",
      "63/63 [==============================] - ETA: 0s - loss: 5.8946\n",
      "Epoch 00030: val_loss did not improve from 6.14751\n",
      "63/63 [==============================] - 9s 146ms/step - loss: 5.8946 - val_loss: 6.3746\n",
      "Epoch 31/100\n",
      "63/63 [==============================] - ETA: 0s - loss: 5.7734\n",
      "Epoch 00031: val_loss improved from 6.14751 to 6.02684, saving model to /home/ssac21/aiffel/ocr/model_checkpoint.hdf5\n",
      "63/63 [==============================] - 9s 147ms/step - loss: 5.7734 - val_loss: 6.0268\n",
      "Epoch 32/100\n",
      "63/63 [==============================] - ETA: 0s - loss: 5.5248\n",
      "Epoch 00032: val_loss improved from 6.02684 to 5.75478, saving model to /home/ssac21/aiffel/ocr/model_checkpoint.hdf5\n",
      "63/63 [==============================] - 10s 156ms/step - loss: 5.5248 - val_loss: 5.7548\n",
      "Epoch 33/100\n",
      "63/63 [==============================] - ETA: 0s - loss: 5.5448\n",
      "Epoch 00033: val_loss improved from 5.75478 to 5.58504, saving model to /home/ssac21/aiffel/ocr/model_checkpoint.hdf5\n",
      "63/63 [==============================] - 10s 152ms/step - loss: 5.5448 - val_loss: 5.5850\n",
      "Epoch 34/100\n",
      "63/63 [==============================] - ETA: 0s - loss: 5.3649\n",
      "Epoch 00034: val_loss improved from 5.58504 to 5.27788, saving model to /home/ssac21/aiffel/ocr/model_checkpoint.hdf5\n",
      "63/63 [==============================] - 9s 148ms/step - loss: 5.3649 - val_loss: 5.2779\n",
      "Epoch 35/100\n",
      "63/63 [==============================] - ETA: 0s - loss: 5.0700\n",
      "Epoch 00035: val_loss did not improve from 5.27788\n",
      "63/63 [==============================] - 10s 151ms/step - loss: 5.0700 - val_loss: 5.6005\n",
      "Epoch 36/100\n",
      "63/63 [==============================] - ETA: 0s - loss: 5.0585\n",
      "Epoch 00036: val_loss did not improve from 5.27788\n",
      "63/63 [==============================] - 9s 143ms/step - loss: 5.0585 - val_loss: 5.8716\n",
      "Epoch 37/100\n",
      "63/63 [==============================] - ETA: 0s - loss: 4.9450\n",
      "Epoch 00037: val_loss improved from 5.27788 to 5.25056, saving model to /home/ssac21/aiffel/ocr/model_checkpoint.hdf5\n",
      "63/63 [==============================] - 9s 145ms/step - loss: 4.9450 - val_loss: 5.2506\n",
      "Epoch 38/100\n",
      "63/63 [==============================] - ETA: 0s - loss: 4.9574\n",
      "Epoch 00038: val_loss improved from 5.25056 to 5.15147, saving model to /home/ssac21/aiffel/ocr/model_checkpoint.hdf5\n",
      "63/63 [==============================] - 9s 149ms/step - loss: 4.9574 - val_loss: 5.1515\n",
      "Epoch 39/100\n",
      "63/63 [==============================] - ETA: 0s - loss: 4.7968\n",
      "Epoch 00039: val_loss improved from 5.15147 to 5.00517, saving model to /home/ssac21/aiffel/ocr/model_checkpoint.hdf5\n",
      "63/63 [==============================] - 9s 146ms/step - loss: 4.7968 - val_loss: 5.0052\n",
      "Epoch 40/100\n",
      "63/63 [==============================] - ETA: 0s - loss: 4.802 - ETA: 0s - loss: 4.7822\n",
      "Epoch 00040: val_loss improved from 5.00517 to 4.92610, saving model to /home/ssac21/aiffel/ocr/model_checkpoint.hdf5\n",
      "63/63 [==============================] - 10s 153ms/step - loss: 4.7822 - val_loss: 4.9261\n",
      "Epoch 41/100\n",
      "63/63 [==============================] - ETA: 0s - loss: 4.5817\n",
      "Epoch 00041: val_loss improved from 4.92610 to 4.83315, saving model to /home/ssac21/aiffel/ocr/model_checkpoint.hdf5\n",
      "63/63 [==============================] - 9s 147ms/step - loss: 4.5817 - val_loss: 4.8332\n",
      "Epoch 42/100\n",
      "63/63 [==============================] - ETA: 0s - loss: 4.5227\n",
      "Epoch 00042: val_loss did not improve from 4.83315\n",
      "63/63 [==============================] - 10s 154ms/step - loss: 4.5227 - val_loss: 4.9527\n",
      "Epoch 43/100\n",
      "63/63 [==============================] - ETA: 0s - loss: 4.6907\n",
      "Epoch 00043: val_loss improved from 4.83315 to 4.74971, saving model to /home/ssac21/aiffel/ocr/model_checkpoint.hdf5\n",
      "63/63 [==============================] - 9s 146ms/step - loss: 4.6907 - val_loss: 4.7497\n",
      "Epoch 44/100\n",
      "63/63 [==============================] - ETA: 0s - loss: 4.4332\n",
      "Epoch 00044: val_loss improved from 4.74971 to 4.71390, saving model to /home/ssac21/aiffel/ocr/model_checkpoint.hdf5\n",
      "63/63 [==============================] - 9s 145ms/step - loss: 4.4332 - val_loss: 4.7139\n",
      "Epoch 45/100\n",
      "63/63 [==============================] - ETA: 0s - loss: 4.5059\n",
      "Epoch 00045: val_loss did not improve from 4.71390\n",
      "63/63 [==============================] - 9s 144ms/step - loss: 4.5059 - val_loss: 4.7204\n",
      "Epoch 46/100\n",
      "63/63 [==============================] - ETA: 0s - loss: 4.3099\n",
      "Epoch 00046: val_loss improved from 4.71390 to 4.55095, saving model to /home/ssac21/aiffel/ocr/model_checkpoint.hdf5\n",
      "63/63 [==============================] - 9s 145ms/step - loss: 4.3099 - val_loss: 4.5509\n",
      "Epoch 47/100\n",
      "63/63 [==============================] - ETA: 0s - loss: 4.2652\n",
      "Epoch 00047: val_loss did not improve from 4.55095\n",
      "63/63 [==============================] - 9s 144ms/step - loss: 4.2652 - val_loss: 4.8515\n",
      "Epoch 48/100\n",
      "63/63 [==============================] - ETA: 0s - loss: 4.1380\n",
      "Epoch 00048: val_loss improved from 4.55095 to 4.47364, saving model to /home/ssac21/aiffel/ocr/model_checkpoint.hdf5\n",
      "63/63 [==============================] - 9s 147ms/step - loss: 4.1380 - val_loss: 4.4736\n",
      "Epoch 49/100\n",
      "63/63 [==============================] - ETA: 0s - loss: 4.1639\n",
      "Epoch 00049: val_loss did not improve from 4.47364\n",
      "63/63 [==============================] - 9s 145ms/step - loss: 4.1639 - val_loss: 4.9102\n",
      "Epoch 50/100\n",
      "63/63 [==============================] - ETA: 0s - loss: 4.1022\n",
      "Epoch 00050: val_loss improved from 4.47364 to 4.37366, saving model to /home/ssac21/aiffel/ocr/model_checkpoint.hdf5\n",
      "63/63 [==============================] - 9s 144ms/step - loss: 4.1022 - val_loss: 4.3737\n",
      "Epoch 51/100\n",
      "63/63 [==============================] - ETA: 0s - loss: 4.0644\n",
      "Epoch 00051: val_loss improved from 4.37366 to 4.20047, saving model to /home/ssac21/aiffel/ocr/model_checkpoint.hdf5\n",
      "63/63 [==============================] - 9s 144ms/step - loss: 4.0644 - val_loss: 4.2005\n",
      "Epoch 52/100\n",
      "63/63 [==============================] - ETA: 0s - loss: 3.9626\n",
      "Epoch 00052: val_loss did not improve from 4.20047\n",
      "63/63 [==============================] - 9s 150ms/step - loss: 3.9626 - val_loss: 4.3618\n",
      "Epoch 53/100\n",
      "63/63 [==============================] - ETA: 0s - loss: 4.2339\n",
      "Epoch 00053: val_loss did not improve from 4.20047\n",
      "63/63 [==============================] - 9s 144ms/step - loss: 4.2339 - val_loss: 4.4099\n",
      "Epoch 54/100\n",
      "63/63 [==============================] - ETA: 0s - loss: 4.0455\n",
      "Epoch 00054: val_loss did not improve from 4.20047\n",
      "63/63 [==============================] - 9s 145ms/step - loss: 4.0455 - val_loss: 4.2535\n",
      "Epoch 55/100\n",
      "63/63 [==============================] - ETA: 0s - loss: 4.0738\n",
      "Epoch 00055: val_loss improved from 4.20047 to 4.14273, saving model to /home/ssac21/aiffel/ocr/model_checkpoint.hdf5\n",
      "63/63 [==============================] - 9s 146ms/step - loss: 4.0738 - val_loss: 4.1427\n",
      "Epoch 56/100\n",
      "63/63 [==============================] - ETA: 0s - loss: 3.8404\n",
      "Epoch 00056: val_loss improved from 4.14273 to 4.04573, saving model to /home/ssac21/aiffel/ocr/model_checkpoint.hdf5\n",
      "63/63 [==============================] - 9s 147ms/step - loss: 3.8404 - val_loss: 4.0457\n",
      "Epoch 57/100\n",
      "63/63 [==============================] - ETA: 0s - loss: 3.9346\n",
      "Epoch 00057: val_loss improved from 4.04573 to 4.03794, saving model to /home/ssac21/aiffel/ocr/model_checkpoint.hdf5\n",
      "63/63 [==============================] - 9s 147ms/step - loss: 3.9346 - val_loss: 4.0379\n",
      "Epoch 58/100\n",
      "63/63 [==============================] - ETA: 0s - loss: 3.7293\n",
      "Epoch 00058: val_loss did not improve from 4.03794\n",
      "63/63 [==============================] - 9s 144ms/step - loss: 3.7293 - val_loss: 4.1411\n",
      "Epoch 59/100\n",
      "63/63 [==============================] - ETA: 0s - loss: 3.8550\n",
      "Epoch 00059: val_loss did not improve from 4.03794\n",
      "63/63 [==============================] - 9s 145ms/step - loss: 3.8550 - val_loss: 4.1854\n",
      "Epoch 60/100\n",
      "63/63 [==============================] - ETA: 0s - loss: 3.7906\n",
      "Epoch 00060: val_loss improved from 4.03794 to 3.98630, saving model to /home/ssac21/aiffel/ocr/model_checkpoint.hdf5\n",
      "63/63 [==============================] - 9s 145ms/step - loss: 3.7906 - val_loss: 3.9863\n",
      "Epoch 61/100\n",
      "63/63 [==============================] - ETA: 0s - loss: 3.7706\n",
      "Epoch 00061: val_loss improved from 3.98630 to 3.84177, saving model to /home/ssac21/aiffel/ocr/model_checkpoint.hdf5\n",
      "63/63 [==============================] - 9s 144ms/step - loss: 3.7706 - val_loss: 3.8418\n"
     ]
    },
    {
     "name": "stdout",
     "output_type": "stream",
     "text": [
      "Epoch 62/100\n",
      "63/63 [==============================] - ETA: 0s - loss: 3.5080\n",
      "Epoch 00062: val_loss did not improve from 3.84177\n",
      "63/63 [==============================] - 9s 144ms/step - loss: 3.5080 - val_loss: 4.0197\n",
      "Epoch 63/100\n",
      "63/63 [==============================] - ETA: 0s - loss: 3.6633\n",
      "Epoch 00063: val_loss improved from 3.84177 to 3.71684, saving model to /home/ssac21/aiffel/ocr/model_checkpoint.hdf5\n",
      "63/63 [==============================] - 9s 145ms/step - loss: 3.6633 - val_loss: 3.7168\n",
      "Epoch 64/100\n",
      "63/63 [==============================] - ETA: 0s - loss: 3.4926\n",
      "Epoch 00064: val_loss did not improve from 3.71684\n",
      "63/63 [==============================] - 9s 144ms/step - loss: 3.4926 - val_loss: 3.8221\n",
      "Epoch 65/100\n",
      "63/63 [==============================] - ETA: 0s - loss: 3.6230\n",
      "Epoch 00065: val_loss did not improve from 3.71684\n",
      "63/63 [==============================] - 9s 145ms/step - loss: 3.6230 - val_loss: 3.8278\n",
      "Epoch 66/100\n",
      "63/63 [==============================] - ETA: 0s - loss: 3.5834\n",
      "Epoch 00066: val_loss improved from 3.71684 to 3.67073, saving model to /home/ssac21/aiffel/ocr/model_checkpoint.hdf5\n",
      "63/63 [==============================] - 9s 149ms/step - loss: 3.5834 - val_loss: 3.6707\n",
      "Epoch 67/100\n",
      "63/63 [==============================] - ETA: 0s - loss: 3.4332\n",
      "Epoch 00067: val_loss did not improve from 3.67073\n",
      "63/63 [==============================] - 9s 146ms/step - loss: 3.4332 - val_loss: 3.6872\n",
      "Epoch 68/100\n",
      "63/63 [==============================] - ETA: 0s - loss: 3.3651\n",
      "Epoch 00068: val_loss did not improve from 3.67073\n",
      "63/63 [==============================] - 9s 148ms/step - loss: 3.3651 - val_loss: 3.8143\n",
      "Epoch 69/100\n",
      "63/63 [==============================] - ETA: 0s - loss: 3.4543\n",
      "Epoch 00069: val_loss improved from 3.67073 to 3.59149, saving model to /home/ssac21/aiffel/ocr/model_checkpoint.hdf5\n",
      "63/63 [==============================] - 10s 160ms/step - loss: 3.4543 - val_loss: 3.5915\n",
      "Epoch 70/100\n",
      "63/63 [==============================] - ETA: 0s - loss: 3.4837\n",
      "Epoch 00070: val_loss did not improve from 3.59149\n",
      "63/63 [==============================] - 10s 152ms/step - loss: 3.4837 - val_loss: 3.6252\n",
      "Epoch 71/100\n",
      "63/63 [==============================] - ETA: 0s - loss: 3.4880\n",
      "Epoch 00071: val_loss did not improve from 3.59149\n",
      "63/63 [==============================] - 9s 146ms/step - loss: 3.4880 - val_loss: 3.6171\n",
      "Epoch 72/100\n",
      "63/63 [==============================] - ETA: 0s - loss: 3.2778\n",
      "Epoch 00072: val_loss did not improve from 3.59149\n",
      "63/63 [==============================] - 9s 150ms/step - loss: 3.2778 - val_loss: 3.6028\n",
      "Epoch 73/100\n",
      "63/63 [==============================] - ETA: 0s - loss: 3.3035\n",
      "Epoch 00073: val_loss improved from 3.59149 to 3.59053, saving model to /home/ssac21/aiffel/ocr/model_checkpoint.hdf5\n",
      "63/63 [==============================] - 9s 149ms/step - loss: 3.3035 - val_loss: 3.5905\n",
      "Epoch 74/100\n",
      "63/63 [==============================] - ETA: 0s - loss: 3.3360\n",
      "Epoch 00074: val_loss improved from 3.59053 to 3.52796, saving model to /home/ssac21/aiffel/ocr/model_checkpoint.hdf5\n",
      "63/63 [==============================] - 9s 147ms/step - loss: 3.3360 - val_loss: 3.5280\n",
      "Epoch 75/100\n",
      "63/63 [==============================] - ETA: 0s - loss: 3.2877\n",
      "Epoch 00075: val_loss did not improve from 3.52796\n",
      "63/63 [==============================] - 10s 151ms/step - loss: 3.2877 - val_loss: 3.5519\n",
      "Epoch 76/100\n",
      "63/63 [==============================] - ETA: 0s - loss: 3.2410\n",
      "Epoch 00076: val_loss did not improve from 3.52796\n",
      "63/63 [==============================] - 11s 171ms/step - loss: 3.2410 - val_loss: 3.5731\n",
      "Epoch 77/100\n",
      "63/63 [==============================] - ETA: 0s - loss: 3.2278\n",
      "Epoch 00077: val_loss did not improve from 3.52796\n",
      "63/63 [==============================] - 11s 173ms/step - loss: 3.2278 - val_loss: 3.6060\n",
      "Epoch 78/100\n",
      "63/63 [==============================] - ETA: 0s - loss: 3.2596\n",
      "Epoch 00078: val_loss improved from 3.52796 to 3.40572, saving model to /home/ssac21/aiffel/ocr/model_checkpoint.hdf5\n",
      "63/63 [==============================] - 10s 164ms/step - loss: 3.2596 - val_loss: 3.4057\n",
      "Epoch 79/100\n",
      "63/63 [==============================] - ETA: 0s - loss: 3.2730\n",
      "Epoch 00079: val_loss did not improve from 3.40572\n",
      "63/63 [==============================] - 10s 157ms/step - loss: 3.2730 - val_loss: 3.4763\n",
      "Epoch 80/100\n",
      "63/63 [==============================] - ETA: 0s - loss: 3.2911\n",
      "Epoch 00080: val_loss improved from 3.40572 to 3.39769, saving model to /home/ssac21/aiffel/ocr/model_checkpoint.hdf5\n",
      "63/63 [==============================] - 10s 160ms/step - loss: 3.2911 - val_loss: 3.3977\n",
      "Epoch 81/100\n",
      "63/63 [==============================] - ETA: 0s - loss: 3.1366\n",
      "Epoch 00081: val_loss improved from 3.39769 to 3.37149, saving model to /home/ssac21/aiffel/ocr/model_checkpoint.hdf5\n",
      "63/63 [==============================] - 10s 158ms/step - loss: 3.1366 - val_loss: 3.3715\n",
      "Epoch 82/100\n",
      "63/63 [==============================] - ETA: 0s - loss: 3.0765\n",
      "Epoch 00082: val_loss improved from 3.37149 to 3.32110, saving model to /home/ssac21/aiffel/ocr/model_checkpoint.hdf5\n",
      "63/63 [==============================] - 10s 164ms/step - loss: 3.0765 - val_loss: 3.3211\n",
      "Epoch 83/100\n",
      "63/63 [==============================] - ETA: 0s - loss: 3.0953\n",
      "Epoch 00083: val_loss did not improve from 3.32110\n",
      "63/63 [==============================] - 10s 166ms/step - loss: 3.0953 - val_loss: 3.3917\n",
      "Epoch 84/100\n",
      "63/63 [==============================] - ETA: 0s - loss: 3.0364\n",
      "Epoch 00084: val_loss improved from 3.32110 to 3.26842, saving model to /home/ssac21/aiffel/ocr/model_checkpoint.hdf5\n",
      "63/63 [==============================] - 11s 167ms/step - loss: 3.0364 - val_loss: 3.2684\n",
      "Epoch 85/100\n",
      "63/63 [==============================] - ETA: 0s - loss: 3.0954\n",
      "Epoch 00085: val_loss improved from 3.26842 to 3.24321, saving model to /home/ssac21/aiffel/ocr/model_checkpoint.hdf5\n",
      "63/63 [==============================] - 11s 176ms/step - loss: 3.0954 - val_loss: 3.2432\n",
      "Epoch 86/100\n",
      "63/63 [==============================] - ETA: 0s - loss: 3.1940\n",
      "Epoch 00086: val_loss did not improve from 3.24321\n",
      "63/63 [==============================] - 10s 165ms/step - loss: 3.1940 - val_loss: 3.4125\n",
      "Epoch 87/100\n",
      "63/63 [==============================] - ETA: 0s - loss: 3.0601\n",
      "Epoch 00087: val_loss improved from 3.24321 to 3.18354, saving model to /home/ssac21/aiffel/ocr/model_checkpoint.hdf5\n",
      "63/63 [==============================] - 11s 179ms/step - loss: 3.0601 - val_loss: 3.1835\n",
      "Epoch 88/100\n",
      "63/63 [==============================] - ETA: 0s - loss: 2.9893\n",
      "Epoch 00088: val_loss did not improve from 3.18354\n",
      "63/63 [==============================] - 12s 183ms/step - loss: 2.9893 - val_loss: 3.2085\n",
      "Epoch 89/100\n",
      "63/63 [==============================] - ETA: 0s - loss: 2.9902\n",
      "Epoch 00089: val_loss did not improve from 3.18354\n",
      "63/63 [==============================] - 10s 163ms/step - loss: 2.9902 - val_loss: 3.2151\n",
      "Epoch 90/100\n",
      "63/63 [==============================] - ETA: 0s - loss: 3.0642\n",
      "Epoch 00090: val_loss improved from 3.18354 to 3.10061, saving model to /home/ssac21/aiffel/ocr/model_checkpoint.hdf5\n",
      "63/63 [==============================] - 10s 160ms/step - loss: 3.0642 - val_loss: 3.1006\n",
      "Epoch 91/100\n",
      "63/63 [==============================] - ETA: 0s - loss: 2.8968\n",
      "Epoch 00091: val_loss did not improve from 3.10061\n",
      "63/63 [==============================] - 10s 162ms/step - loss: 2.8968 - val_loss: 3.1104\n",
      "Epoch 92/100\n",
      "63/63 [==============================] - ETA: 0s - loss: 2.9568\n",
      "Epoch 00092: val_loss did not improve from 3.10061\n",
      "63/63 [==============================] - 10s 157ms/step - loss: 2.9568 - val_loss: 3.1896\n",
      "Epoch 93/100\n",
      "63/63 [==============================] - ETA: 0s - loss: 3.0098\n",
      "Epoch 00093: val_loss did not improve from 3.10061\n",
      "63/63 [==============================] - 10s 158ms/step - loss: 3.0098 - val_loss: 3.1065\n",
      "Epoch 94/100\n",
      "63/63 [==============================] - ETA: 0s - loss: 2.9102\n",
      "Epoch 00094: val_loss did not improve from 3.10061\n",
      "63/63 [==============================] - 10s 159ms/step - loss: 2.9102 - val_loss: 3.1132\n",
      "Epoch 95/100\n",
      "63/63 [==============================] - ETA: 0s - loss: 3.0086\n",
      "Epoch 00095: val_loss did not improve from 3.10061\n",
      "63/63 [==============================] - 10s 159ms/step - loss: 3.0086 - val_loss: 3.1015\n"
     ]
    },
    {
     "name": "stdout",
     "output_type": "stream",
     "text": [
      "Epoch 96/100\n",
      "63/63 [==============================] - ETA: 0s - loss: 2.9432\n",
      "Epoch 00096: val_loss improved from 3.10061 to 3.04445, saving model to /home/ssac21/aiffel/ocr/model_checkpoint.hdf5\n",
      "63/63 [==============================] - 11s 168ms/step - loss: 2.9432 - val_loss: 3.0444\n",
      "Epoch 97/100\n",
      "63/63 [==============================] - ETA: 0s - loss: 2.8374\n",
      "Epoch 00097: val_loss improved from 3.04445 to 2.98484, saving model to /home/ssac21/aiffel/ocr/model_checkpoint.hdf5\n",
      "63/63 [==============================] - 10s 161ms/step - loss: 2.8374 - val_loss: 2.9848\n",
      "Epoch 98/100\n",
      "63/63 [==============================] - ETA: 0s - loss: 2.7834\n",
      "Epoch 00098: val_loss did not improve from 2.98484\n",
      "63/63 [==============================] - 10s 158ms/step - loss: 2.7834 - val_loss: 3.0355\n",
      "Epoch 99/100\n",
      "63/63 [==============================] - ETA: 0s - loss: 2.8848\n",
      "Epoch 00099: val_loss did not improve from 2.98484\n",
      "63/63 [==============================] - 10s 155ms/step - loss: 2.8848 - val_loss: 3.0195\n",
      "Epoch 100/100\n",
      "63/63 [==============================] - ETA: 0s - loss: 2.9640\n",
      "Epoch 00100: val_loss did not improve from 2.98484\n",
      "63/63 [==============================] - 10s 160ms/step - loss: 2.9640 - val_loss: 3.0721\n"
     ]
    },
    {
     "data": {
      "text/plain": [
       "<tensorflow.python.keras.callbacks.History at 0x7f10f4398750>"
      ]
     },
     "execution_count": 9,
     "metadata": {},
     "output_type": "execute_result"
    }
   ],
   "source": [
    "train_set = MJDatasetSequence(TRAIN_DATA_PATH, label_converter, batch_size=BATCH_SIZE, character=TARGET_CHARACTERS, is_train=True)\n",
    "val_set = MJDatasetSequence(VALID_DATA_PATH, label_converter, batch_size=BATCH_SIZE, character=TARGET_CHARACTERS)\n",
    "\n",
    "checkpoint_path = HOME_DIR + '/model_checkpoint.hdf5'\n",
    "\n",
    "model, y_func = build_crnn_model()\n",
    "sgd = tf.keras.optimizers.Adadelta(lr=0.1, clipnorm=5)\n",
    "model.compile(loss={'ctc': lambda y_true, y_pred: y_pred}, optimizer=sgd)\n",
    "ckp = tf.keras.callbacks.ModelCheckpoint(\n",
    "    checkpoint_path, monitor='val_loss',\n",
    "    verbose=1, save_best_only=True, save_weights_only=True\n",
    ")\n",
    "earlystop = tf.keras.callbacks.EarlyStopping(\n",
    "    monitor='val_loss', min_delta=0, patience=10, verbose=0, mode='min'\n",
    ")\n",
    "model.fit(train_set,\n",
    "        steps_per_epoch=len(val_set),\n",
    "        epochs=100,\n",
    "        validation_data=val_set,\n",
    "        validation_steps=len(val_set),\n",
    "        callbacks=[ckp])"
   ]
  },
  {
   "cell_type": "code",
   "execution_count": 9,
   "metadata": {},
   "outputs": [
    {
     "name": "stdout",
     "output_type": "stream",
     "text": [
      "WARNING:tensorflow:From /home/ssac21/anaconda3/envs/aiffel/lib/python3.7/site-packages/tensorflow/python/keras/backend.py:5871: sparse_to_dense (from tensorflow.python.ops.sparse_ops) is deprecated and will be removed in a future version.\n",
      "Instructions for updating:\n",
      "Create a `tf.sparse.SparseTensor` and use `tf.sparse.to_dense` instead.\n",
      "Result: \t SLINKING\n"
     ]
    },
    {
     "data": {
      "image/png": "[encoded data removed]",
      "text/plain": [
       "<PIL.Image.Image image mode=RGB size=100x32 at 0x7F4EB4678C50>"
      ]
     },
     "metadata": {},
     "output_type": "display_data"
    },
    {
     "name": "stdout",
     "output_type": "stream",
     "text": [
      "Result: \t ALEPPO\n"
     ]
    },
    {
     "data": {
      "image/png": "[encoded data removed]",
      "text/plain": [
       "<PIL.Image.Image image mode=RGB size=100x32 at 0x7F4EB461C790>"
      ]
     },
     "metadata": {},
     "output_type": "display_data"
    },
    {
     "name": "stdout",
     "output_type": "stream",
     "text": [
      "Result: \t FWANDA\n"
     ]
    },
    {
     "data": {
      "image/png": "[encoded data removed]",
      "text/plain": [
       "<PIL.Image.Image image mode=RGB size=100x32 at 0x7F4EB4622BD0>"
      ]
     },
     "metadata": {},
     "output_type": "display_data"
    },
    {
     "name": "stdout",
     "output_type": "stream",
     "text": [
      "Result: \t NATHANS\n"
     ]
    },
    {
     "data": {
      "image/png": "[encoded data removed]",
      "text/plain": [
       "<PIL.Image.Image image mode=RGB size=100x32 at 0x7F4EAC564510>"
      ]
     },
     "metadata": {},
     "output_type": "display_data"
    },
    {
     "name": "stdout",
     "output_type": "stream",
     "text": [
      "Result: \t HALLO\n"
     ]
    },
    {
     "data": {
      "image/png": "[encoded data removed]",
      "text/plain": [
       "<PIL.Image.Image image mode=RGB size=100x32 at 0x7F4EAC56A450>"
      ]
     },
     "metadata": {},
     "output_type": "display_data"
    },
    {
     "name": "stdout",
     "output_type": "stream",
     "text": [
      "Result: \t HURLS\n"
     ]
    },
    {
     "data": {
      "image/png": "[encoded data removed]",
      "text/plain": [
       "<PIL.Image.Image image mode=RGB size=100x32 at 0x7F4EAC523950>"
      ]
     },
     "metadata": {},
     "output_type": "display_data"
    },
    {
     "name": "stdout",
     "output_type": "stream",
     "text": [
      "Result: \t DOWNSIZE\n"
     ]
    },
    {
     "data": {
      "image/png": "[encoded data removed]",
      "text/plain": [
       "<PIL.Image.Image image mode=RGB size=100x32 at 0x7F4EAC4C7590>"
      ]
     },
     "metadata": {},
     "output_type": "display_data"
    },
    {
     "name": "stdout",
     "output_type": "stream",
     "text": [
      "Result: \t ROBOTIC\n"
     ]
    },
    {
     "data": {
      "image/png": "[encoded data removed]",
      "text/plain": [
       "<PIL.Image.Image image mode=RGB size=100x32 at 0x7F4EAC4F5E50>"
      ]
     },
     "metadata": {},
     "output_type": "display_data"
    },
    {
     "name": "stdout",
     "output_type": "stream",
     "text": [
      "Result: \t STOPPY\n"
     ]
    },
    {
     "data": {
      "image/png": "[encoded data removed]",
      "text/plain": [
       "<PIL.Image.Image image mode=RGB size=100x32 at 0x7F4EAC4C79D0>"
      ]
     },
     "metadata": {},
     "output_type": "display_data"
    },
    {
     "name": "stdout",
     "output_type": "stream",
     "text": [
      "Result: \t HERMITE\n"
     ]
    },
    {
     "data": {
      "image/png": "[encoded data removed]",
      "text/plain": [
       "<PIL.Image.Image image mode=RGB size=100x32 at 0x7F4EAC490750>"
      ]
     },
     "metadata": {},
     "output_type": "display_data"
    }
   ],
   "source": [
    "from IPython.display import display\n",
    "\n",
    "test_set = MJDatasetSequence(TEST_DATA_PATH, label_converter, batch_size=BATCH_SIZE, character=TARGET_CHARACTERS)\n",
    "\n",
    "model, y_func = build_crnn_model()\n",
    "\n",
    "checkpoint_path = HOME_DIR + '/model_checkpoint.hdf5'\n",
    "model.load_weights(checkpoint_path)\n",
    "input_data = model.get_layer('input_image').output\n",
    "y_pred = model.get_layer('output').output\n",
    "model_pred = Model(inputs=input_data, outputs=y_pred)\n",
    "\n",
    "def decode_predict_ctc(out, chars = TARGET_CHARACTERS, top_paths = 1):\n",
    "    results = []\n",
    "    beam_width = 5\n",
    "    if beam_width < top_paths:\n",
    "        beam_width = top_paths\n",
    "    for i in range(top_paths):\n",
    "        indexes = K.get_value(\n",
    "            K.ctc_decode(\n",
    "                out, input_length = np.ones(out.shape[0]) * out.shape[1],\n",
    "                greedy =False , beam_width = beam_width, top_paths = top_paths\n",
    "            )[0][i]\n",
    "        )[0]\n",
    "        text = \"\"\n",
    "        for index in indexes:\n",
    "            text += chars[index]\n",
    "        results.append(text)\n",
    "    return results\n",
    "\n",
    "def check_inference(model, dataset, index = 5):\n",
    "    for i in range(index):\n",
    "        inputs, outputs = dataset[i]\n",
    "        img = dataset[i][0]['input_image'][0:1,:,:,:]\n",
    "        output = model_pred.predict(img)\n",
    "        result = decode_predict_ctc(output, chars=\"-\"+TARGET_CHARACTERS)[0].replace('-','')\n",
    "        print(\"Result: \\t\", result)\n",
    "        display(Image.fromarray(img[0].transpose(1,0,2).astype(np.uint8)))\n",
    "\n",
    "check_inference(model, test_set, index=10)"
   ]
  },
  {
   "cell_type": "markdown",
   "metadata": {},
   "source": [
    "# 프로젝트: End-to-End OCR\n",
    "- `detect_text()`: 이미지 경로를 받아 해당 이미지 내의 문자를 찾아내는 함수를 keras-ocr의 Detector를 이용해서 만들어보세요! inference한 후에는 이를 시각화하도록 합니다. 그리고 단어의 영역을 잘라오도록 해주세요.\n",
    "- `recognize_img()`: 위에서 얻은 단어 이미지에서 Recognition model로 text를 인식하는 함수를 직접 작성하고 그 결과를 출력해보세요!"
   ]
  },
  {
   "cell_type": "code",
   "execution_count": 16,
   "metadata": {},
   "outputs": [
    {
     "name": "stdout",
     "output_type": "stream",
     "text": [
      "Looking for /home/ssac21/.keras-ocr/craft_mlt_25k.h5\n"
     ]
    }
   ],
   "source": [
    "import cv2\n",
    "import matplotlib.pyplot as plt\n",
    "from keras_ocr.detection import Detector\n",
    "\n",
    "SAMPLE_IMG_PATH = os.path.join(HOME_DIR, 'sample.jpg')\n",
    "\n",
    "detector = Detector()"
   ]
  },
  {
   "cell_type": "code",
   "execution_count": 17,
   "metadata": {},
   "outputs": [],
   "source": [
    "def detect_text(img_path):\n",
    "    # 배치 크기를 위해서 dimension을 확장해주고 kera-ocr의 입력 차원에 맞게 H,W,C로 변경합니다.\n",
    "    # 배치의 첫 번째 결과만 가져옵니다.\n",
    "    # 시각화를 위해서 x와 y좌표를 변경해줍니다. (앞선 h dimension으로 인해 y,x로 표기됨)\n",
    "    img = cv2.imread(img_path)\n",
    "    line_img = img.copy()\n",
    "    input_img = img[tf.newaxis,...]\n",
    "    result = detector.detect(input_img)\n",
    "    ocr_result = result[0]\n",
    "    \n",
    "    cropped_imgs = []\n",
    "    for text_result in ocr_result:\n",
    "        for i in range(4):\n",
    "            if i==3:\n",
    "                line_img = cv2.line(line_img,tuple(text_result[3]),tuple(text_result[0]),(0,0,255),10)\n",
    "            else:\n",
    "                line_img = cv2.line(line_img,tuple(text_result[i]),tuple(text_result[i+1]),(0,0,255),10)\n",
    "        \n",
    "        x_min = text_result[:,0].min() - 5\n",
    "        x_max = text_result[:,0].max() + 5\n",
    "        y_min = text_result[:,1].min() - 5\n",
    "        y_max = text_result[:,1].max() + 5\n",
    "        cropped_imgs.append(img[int(y_min):int(y_max),int(x_min):int(x_max)])\n",
    "    \n",
    "    return line_img, cropped_imgs"
   ]
  },
  {
   "cell_type": "code",
   "execution_count": 18,
   "metadata": {},
   "outputs": [
    {
     "data": {
      "text/plain": [
       "<matplotlib.image.AxesImage at 0x7f4e4cc4bbd0>"
      ]
     },
     "execution_count": 18,
     "metadata": {},
     "output_type": "execute_result"
    },
    {
     "data": {
      "image/png": "[encoded data removed]",
      "text/plain": [
       "<Figure size 432x288 with 1 Axes>"
      ]
     },
     "metadata": {
      "needs_background": "light"
     },
     "output_type": "display_data"
    }
   ],
   "source": [
    "img, cropped_img = detect_text(SAMPLE_IMG_PATH)\n",
    "plt.imshow(img[:,:,::-1])"
   ]
  },
  {
   "cell_type": "code",
   "execution_count": 39,
   "metadata": {},
   "outputs": [],
   "source": [
    "def recognize_img(input_img, input_img_size=(100,32)):\n",
    "    # 잘려진 단어 이미지를 인식하는 코드\n",
    "    img = input_img[:,:,::-1]\n",
    "    img = cv2.resize(img, input_img_size)\n",
    "    result_img = img.copy()\n",
    "    img = img.transpose(1,0,2)\n",
    "    img = img[tf.newaxis,...]\n",
    "    output = model_pred.predict(img)\n",
    "    result = decode_predict_ctc(output, chars=\"-\"+TARGET_CHARACTERS)[0].replace('-','')\n",
    "    print(\"Result: \\t\", result)\n",
    "    display(Image.fromarray(result_img.astype(np.uint8)))"
   ]
  },
  {
   "cell_type": "code",
   "execution_count": 40,
   "metadata": {},
   "outputs": [
    {
     "name": "stdout",
     "output_type": "stream",
     "text": [
      "Result: \t PRENR\n"
     ]
    },
    {
     "data": {
      "image/png": "[encoded data removed]",
      "text/plain": [
       "<PIL.Image.Image image mode=RGB size=100x32 at 0x7F4E3432BA50>"
      ]
     },
     "metadata": {},
     "output_type": "display_data"
    },
    {
     "name": "stdout",
     "output_type": "stream",
     "text": [
      "Result: \t SLEEPER\n"
     ]
    },
    {
     "data": {
      "image/png": "[encoded data removed]",
      "text/plain": [
       "<PIL.Image.Image image mode=RGB size=100x32 at 0x7F4E343A89D0>"
      ]
     },
     "metadata": {},
     "output_type": "display_data"
    }
   ],
   "source": [
    "for _img in cropped_img:\n",
    "    recognize_img(_img)"
   ]
  }
 ],
 "metadata": {
  "kernelspec": {
   "display_name": "aiffel",
   "language": "python",
   "name": "aiffel"
  },
  "language_info": {
   "codemirror_mode": {
    "name": "ipython",
    "version": 3
   },
   "file_extension": ".py",
   "mimetype": "text/x-python",
   "name": "python",
   "nbconvert_exporter": "python",
   "pygments_lexer": "ipython3",
   "version": "3.7.9"
  },
  "toc": {
   "base_numbering": 1,
   "nav_menu": {},
   "number_sections": false,
   "sideBar": true,
   "skip_h1_title": false,
   "title_cell": "Contents",
   "title_sidebar": "Contents",
   "toc_cell": true,
   "toc_position": {},
   "toc_section_display": true,
   "toc_window_display": false
  }
 },
 "nbformat": 4,
 "nbformat_minor": 4
}
