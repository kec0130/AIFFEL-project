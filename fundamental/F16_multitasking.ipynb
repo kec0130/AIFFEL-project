{
 "cells": [
  {
   "cell_type": "markdown",
   "metadata": {},
   "source": [
    "## 프로세스(Process)\n",
    "하나의 프로그램을 실행할 때, 운영체제는 한 프로세스를 생성합니다. 프로세스는 \"프로그램을 구동하여 프로그램 자체와 프로그램의 상태가 메모리상에서 실행되는 작업 단위\"를 지칭합니다. 예를 들어, 하나의 프로그램을 한 번 구동하면 하나의 프로세스가 메모리상에서 실행되고 여러 번 구동하면 여러 개의 프로세스가 실행됩니다. 파이썬에서는 os 라는 모듈에서 프로세스 관련 정보를 얻을 수 있습니다."
   ]
  },
  {
   "cell_type": "code",
   "execution_count": 1,
   "metadata": {},
   "outputs": [
    {
     "name": "stdout",
     "output_type": "stream",
     "text": [
      "25733\n",
      "1000\n",
      "1000\n",
      "/home/ssac21/workplace/fundamental\n"
     ]
    }
   ],
   "source": [
    "import os\n",
    "\n",
    "# process ID\n",
    "print(os.getpid())\n",
    "\n",
    "# user ID\n",
    "print(os.getuid())\n",
    "\n",
    "# group ID\n",
    "print(os.getgid())\n",
    "\n",
    "# 현재 작업중인 디렉토리\n",
    "print(os.getcwd())"
   ]
  },
  {
   "cell_type": "markdown",
   "metadata": {},
   "source": [
    "## 스레드(Thread)\n",
    "프로그램 내에서도 많은 작업이 있습니다. 스레드(thread)는 어떠한 프로그램 내에서, 특히 프로세스 내에서 실행되는 흐름의 단위입니다. 프로세스는 자신만의 전용 메모리공간(Heap)을 가지고, 해당 프로세스 내의 스레드들은 이 메모리공간을 공유합니다. 그러나 다른 프로세스와 공유하지는 않습니다."
   ]
  },
  {
   "cell_type": "markdown",
   "metadata": {},
   "source": [
    "## 프로파일링(Profiling)\n",
    "프로파일링은 애플리케이션에서 가장 자원이 집중되는 지점을 정밀하게 찾아내는 기법입니다. 프로파일러는 애플리케이션을 실행시키고 각각의 함수 실행에 드는 시간을 찾아내는 프로그램으로, 코드의 병목(bottleneck)을 찾아내고 성능을 측정해 주는 도구입니다. 프로파일링을 통해 현재 실행 중인 프로그램의 상태를 확인하고, 코드에서 시스템의 어느 부분이 느린지 혹은 어디서 RAM을 많이 사용하고 있는지를 확인할 수 있습니다."
   ]
  },
  {
   "cell_type": "code",
   "execution_count": 2,
   "metadata": {},
   "outputs": [
    {
     "name": "stdout",
     "output_type": "stream",
     "text": [
      "set               : 1.4917221729992889 [ms]\n",
      "list              : 0.6512117929996748 [ms]\n",
      "tuple             : 0.760182194000663 [ms]\n",
      "string            : 0.43806355799824814 [ms]\n",
      "set_add           : 4.964625968001201 [ms]\n",
      "list_append       : 4.530894114999683 [ms]\n",
      "set_comprehension : 4.9918558779972955 [ms]\n",
      "list_comprehension: 4.739739698001358 [ms]\n"
     ]
    }
   ],
   "source": [
    "# 100까지 숫자를 배열로 만드는 방법을 각각 다른 방법으로 구현해 보고 실행 시간을 측정\n",
    "import timeit\n",
    "        \n",
    "def f1():\n",
    "    s = set(range(100))\n",
    "\n",
    "    \n",
    "def f2():\n",
    "    l = list(range(100))\n",
    "\n",
    "    \n",
    "def f3():\n",
    "    t = tuple(range(100))\n",
    "\n",
    "\n",
    "def f4():\n",
    "    s = str(range(100))\n",
    "\n",
    "    \n",
    "def f5():\n",
    "    s = set()\n",
    "    for i in range(100):\n",
    "        s.add(i)\n",
    "\n",
    "def f6():\n",
    "    l = []\n",
    "    for i in range(100):\n",
    "        l.append(i)\n",
    "    \n",
    "def f7():\n",
    "    s_comp = {i for i in range(100)}\n",
    "\n",
    "    \n",
    "def f8():\n",
    "    l_comp = [i for i in range(100)]\n",
    "    \n",
    "\n",
    "if __name__ == \"__main__\":\n",
    "    t1 = timeit.Timer(\"f1()\", \"from __main__ import f1\")\n",
    "    t2 = timeit.Timer(\"f2()\", \"from __main__ import f2\")\n",
    "    t3 = timeit.Timer(\"f3()\", \"from __main__ import f3\")\n",
    "    t4 = timeit.Timer(\"f4()\", \"from __main__ import f4\")\n",
    "    t5 = timeit.Timer(\"f5()\", \"from __main__ import f5\")\n",
    "    t6 = timeit.Timer(\"f6()\", \"from __main__ import f6\")\n",
    "    t7 = timeit.Timer(\"f7()\", \"from __main__ import f7\")\n",
    "    t8 = timeit.Timer(\"f8()\", \"from __main__ import f8\")\n",
    "    print(\"set               :\", t1.timeit(), '[ms]')\n",
    "    print(\"list              :\", t2.timeit(), '[ms]')\n",
    "    print(\"tuple             :\", t3.timeit(), '[ms]')\n",
    "    print(\"string            :\", t4.timeit(), '[ms]')\n",
    "    print(\"set_add           :\", t5.timeit(), '[ms]')\n",
    "    print(\"list_append       :\", t6.timeit(), '[ms]')\n",
    "    print(\"set_comprehension :\", t5.timeit(), '[ms]')\n",
    "    print(\"list_comprehension:\", t6.timeit(), '[ms]')"
   ]
  },
  {
   "cell_type": "markdown",
   "metadata": {},
   "source": [
    "## 멀티스레드\n",
    "파이썬에서 멀티스레드의 구현은 threading 모듈을 이용합니다. threading 모듈을 import하고 클래스에 Thread를 상속받습니다."
   ]
  },
  {
   "cell_type": "code",
   "execution_count": 3,
   "metadata": {},
   "outputs": [
    {
     "name": "stdout",
     "output_type": "stream",
     "text": [
      "delivery\n",
      "Retriving Dish\n"
     ]
    }
   ],
   "source": [
    "# 기본 코드\n",
    "class Delivery:\n",
    "    def run(self):\n",
    "        print(\"delivery\")\n",
    "\n",
    "class RetriveDish:\n",
    "    def run(self):\n",
    "        print(\"Retriving Dish\")\n",
    "\n",
    "work1 = Delivery()\n",
    "work2 = RetriveDish()\n",
    "\n",
    "def main():\n",
    "    work1.run()\n",
    "    work2.run()\n",
    "\n",
    "if __name__ == '__main__':\n",
    "    main()"
   ]
  },
  {
   "cell_type": "code",
   "execution_count": 4,
   "metadata": {},
   "outputs": [
    {
     "name": "stdout",
     "output_type": "stream",
     "text": [
      "delivery\n",
      "Retriving Dish\n"
     ]
    }
   ],
   "source": [
    "# 멀티스레드\n",
    "from threading import *\n",
    "\n",
    "class Delivery(Thread):\n",
    "    def run(self):\n",
    "        print(\"delivery\")\n",
    "\n",
    "class RetriveDish(Thread):\n",
    "    def run(self):\n",
    "        print(\"Retriving Dish\")\n",
    "\n",
    "work1 = Delivery()\n",
    "work2 = RetriveDish()\n",
    "\n",
    "def main():\n",
    "    work1.run()\n",
    "    work2.run()\n",
    "\n",
    "if __name__ == '__main__':\n",
    "    main()"
   ]
  },
  {
   "cell_type": "code",
   "execution_count": 5,
   "metadata": {},
   "outputs": [
    {
     "name": "stdout",
     "output_type": "stream",
     "text": [
      "<bound method Delivery.run of <__main__.Delivery object at 0x7f76e4337b10>>\n",
      "<bound method Delivery.run of <Delivery(Thread-6, initial)>>\n"
     ]
    }
   ],
   "source": [
    "# 스레드 생성 확인\n",
    "from threading import *\n",
    "\n",
    "class Delivery:\n",
    "    def run(self):\n",
    "        print(\"delivering\")\n",
    "\n",
    "work1 = Delivery()\n",
    "print(work1.run)\n",
    "\n",
    "class Delivery(Thread):\n",
    "    def run(self):\n",
    "        print(\"delivering\")\n",
    "\n",
    "work2 = Delivery()\n",
    "print(work2.run)"
   ]
  },
  {
   "cell_type": "markdown",
   "metadata": {},
   "source": [
    "## 스레드 생성 및 사용\n",
    "- thread 모듈의 Thread 클래스를 상속받아서 구현할 수도 있지만 그대로 인스턴스화 하여 스레드를 생성할 수도 있습니다. 인스턴스화 하려면 Thread 클래스에 인자로 target과 args 값을 넣어 줍니다. args에 넣어 준 파라미터는 스레드 함수의 인자로 넘어갑니다.\n",
    "- Thread 클래스에는 start(), join() 같은 스레드 동작 관련 메소드가 있습니다. Thread로 실행할 함수를 정의한 후 start() 를 통해 스레드를 실행합니다. 스레드 함수가 루프를 돌 때는 꼭 멈춰야 할지를 체크하는 flag(여기서는 Stopped)를 체크하도록 설계해야 합니다."
   ]
  },
  {
   "cell_type": "code",
   "execution_count": 6,
   "metadata": {},
   "outputs": [
    {
     "name": "stdout",
     "output_type": "stream",
     "text": [
      "do  Overwork\n"
     ]
    }
   ],
   "source": [
    "from threading import *\n",
    "from time import sleep\n",
    "\n",
    "Stopped = False\n",
    "\n",
    "def worker(work, sleep_sec):  # 일꾼 스레드입니다.\n",
    "    while not Stopped:        # 그만 하라고 할때까지\n",
    "        print('do ', work)    # 시키는 일을 하고\n",
    "        sleep(sleep_sec)      # 잠깐 쉽니다.\n",
    "    print('retired..')        # 언젠가 이 굴레를 벗어나면, 은퇴할 때가 오겠지요?\n",
    "        \n",
    "t = Thread(target=worker, args=('Overwork', 3))    # 일꾼 스레드를 하나 생성합니다. 열심히 일하고 3초간 쉽니다.\n",
    "t.start()    # 일꾼, 이제 일을 해야지? 😈"
   ]
  },
  {
   "cell_type": "code",
   "execution_count": 7,
   "metadata": {},
   "outputs": [
    {
     "name": "stdout",
     "output_type": "stream",
     "text": [
      "retired..\n",
      "worker is gone.\n"
     ]
    }
   ],
   "source": [
    "# 이 코드 블럭을 실행하기 전까지는 일꾼 스레드는 종료하지 않습니다. \n",
    "Stopped = True    # 일꾼 일 그만하라고 세팅해 줍시다. \n",
    "t.join()          # 일꾼 스레드가 종료할때까지 기다립니다. \n",
    "print('worker is gone.')"
   ]
  },
  {
   "cell_type": "markdown",
   "metadata": {},
   "source": [
    "## 멀티프로세스\n",
    "- 파이썬에서 멀티프로세스의 구현은 multiprocessing 모듈을 이용해서 할 수 있습니다. Process 인스턴스를 만든 뒤, target 과 args 파라미터에 각각 함수 이름과 함수 인자를 전달합니다.\n",
    "- Process 클래스는 start(), join(), terminate() 같은 프로세스 동작 관련 메소드가 있습니다."
   ]
  },
  {
   "cell_type": "code",
   "execution_count": 8,
   "metadata": {},
   "outputs": [
    {
     "name": "stdout",
     "output_type": "stream",
     "text": [
      "delivering...\n"
     ]
    }
   ],
   "source": [
    "import multiprocessing as mp\n",
    "\n",
    "def delivery():\n",
    "    print('delivering...')\n",
    "\n",
    "p = mp.Process(target=delivery, args=())\n",
    "p.start()"
   ]
  },
  {
   "cell_type": "code",
   "execution_count": 9,
   "metadata": {},
   "outputs": [
    {
     "name": "stdout",
     "output_type": "stream",
     "text": [
      "delivering...\n"
     ]
    }
   ],
   "source": [
    "p = mp.Process(target=delivery, args=())\n",
    "p.start()     # 프로세스 시작\n",
    "p.join()      # 실제 종료까지 기다림 (필요시에만 사용)\n",
    "p.terminate() # 프로세스 종료"
   ]
  },
  {
   "cell_type": "markdown",
   "metadata": {},
   "source": [
    "## 스레드/프로세스 풀\n",
    "- 멀티스레드/프로세스 작업을 할 때 가장 많은 연산이 필요한 작업은 바로 이런 스레드나 프로세스를 생성하고 종료하는 일입니다. 특히 스레드/프로세스를 사용한 뒤에는 제대로 종료해 주어야 컴퓨팅 리소스가 낭비되지 않습니다. 그래서 실제로 사용할 때에는 스레드/프로세스 풀을 사용해서 생성합니다.\n",
    "- concurrent.futures 모듈의 ThreadPoolExecutor, ProcessPoolExecutor 클래스를 이용하여 풀을 만들 수 있습니다. Executor 객체를 이용하면 스레드 생성, 시작, 조인 같은 작업을 할 때, with 컨텍스트 관리자와 같은 방법으로 가독성 높은 코드를 구현할 수 있습니다.\n",
    "- multiprocessing.Pool.map을 통해 여러 개의 프로세스에 특정 함수를 매핑해서 병렬처리하도록 구현하는 방법이 널리 사용됩니다."
   ]
  },
  {
   "cell_type": "code",
   "execution_count": 10,
   "metadata": {},
   "outputs": [
    {
     "name": "stdout",
     "output_type": "stream",
     "text": [
      "delivering\n"
     ]
    }
   ],
   "source": [
    "# ThreadPoolExecutor\n",
    "from concurrent.futures import ThreadPoolExecutor\n",
    "\n",
    "class Delivery:\n",
    "    def run(self):\n",
    "        print(\"delivering\")\n",
    "w = Delivery()\n",
    "\n",
    "with ThreadPoolExecutor() as executor:\n",
    "    future = executor.submit(w.run)"
   ]
  },
  {
   "cell_type": "code",
   "execution_count": 11,
   "metadata": {},
   "outputs": [
    {
     "name": "stdout",
     "output_type": "stream",
     "text": [
      "I'm process I'm process I'm process I'm process  I'm process   25871 25875 \n",
      "\n",
      "2587225870\n",
      "\n",
      "25873\n",
      "[2, 4, 6, 8, 10]\n"
     ]
    }
   ],
   "source": [
    "# multiprocessing.Pool\n",
    "from multiprocessing import Pool\n",
    "from os import getpid\n",
    "\n",
    "def double(i):\n",
    "    print(\"I'm process \", getpid())    # pool 안에서 이 메소드가 실행될 때 pid를 확인해 봅시다.\n",
    "    return i * 2\n",
    "\n",
    "with Pool() as pool:\n",
    "      result = pool.map(double, [1, 2, 3, 4, 5])\n",
    "      print(result)"
   ]
  },
  {
   "cell_type": "markdown",
   "metadata": {},
   "source": [
    "## 튜토리얼\n",
    "아래 코드는 concurrent.futures 모듈 공식 문서의 ProcessPoolExecutor 예제에 실린 코드입니다. concurrent.futures 모듈의 ProcessPoolExecutor를 이용해서 멀티프로세스 구현을 연습해 보겠습니다."
   ]
  },
  {
   "cell_type": "code",
   "execution_count": 12,
   "metadata": {},
   "outputs": [
    {
     "name": "stdout",
     "output_type": "stream",
     "text": [
      "112272535095293 is prime: True\n",
      "112582705942171 is prime: True\n",
      "112272535095293 is prime: True\n",
      "115280095190773 is prime: True\n",
      "115797848077099 is prime: True\n",
      "1099726899285419 is prime: False\n"
     ]
    }
   ],
   "source": [
    "# 전체 코드\n",
    "import math\n",
    "import concurrent\n",
    "\n",
    "PRIMES = [\n",
    "    112272535095293,\n",
    "    112582705942171,\n",
    "    112272535095293,\n",
    "    115280095190773,\n",
    "    115797848077099,\n",
    "    1099726899285419]\n",
    "\n",
    "def is_prime(n):\n",
    "    if n < 2:\n",
    "        return False\n",
    "    if n == 2:\n",
    "        return True\n",
    "    if n % 2 == 0:\n",
    "        return False\n",
    "\n",
    "    sqrt_n = int(math.floor(math.sqrt(n)))\n",
    "    for i in range(3, sqrt_n + 1, 2):\n",
    "        if n % i == 0:\n",
    "            return False\n",
    "    return True\n",
    "\n",
    "def main():\n",
    "    with concurrent.futures.ProcessPoolExecutor() as executor:\n",
    "        for number, prime in zip(PRIMES, executor.map(is_prime, PRIMES)):\n",
    "            print('%d is prime: %s' % (number, prime))\n",
    "\n",
    "if __name__ == '__main__':\n",
    "    main()"
   ]
  },
  {
   "cell_type": "code",
   "execution_count": 13,
   "metadata": {},
   "outputs": [],
   "source": [
    "# 소수(prime) 판별 문제로 PRIMES 변수에 선언된 숫자들이 소수인지 아닌지를 판별합니다.\n",
    "import math\n",
    "import concurrent\n",
    "\n",
    "PRIMES = [\n",
    "    112272535095293,\n",
    "    112582705942171,\n",
    "    112272535095293,\n",
    "    115280095190773,\n",
    "    115797848077099,\n",
    "    1099726899285419]"
   ]
  },
  {
   "cell_type": "code",
   "execution_count": 14,
   "metadata": {},
   "outputs": [],
   "source": [
    "# 소수 판별 함수 구현\n",
    "def is_prime(n):\n",
    "    if n < 2:\n",
    "        return False\n",
    "    if n == 2:\n",
    "        return True\n",
    "    if n % 2 == 0:\n",
    "        return False\n",
    "\n",
    "    sqrt_n = int(math.floor(math.sqrt(n)))\n",
    "    for i in range(3, sqrt_n + 1, 2):\n",
    "        if n % i == 0:\n",
    "            return False\n",
    "    return True"
   ]
  },
  {
   "cell_type": "code",
   "execution_count": 15,
   "metadata": {},
   "outputs": [],
   "source": [
    "# 소수 판별 함수 호출\n",
    "def main():\n",
    "    with concurrent.futures.ProcessPoolExecutor() as executor:\n",
    "        for number, prime in zip(PRIMES, executor.map(is_prime, PRIMES)):\n",
    "            print('%d is prime: %s' % (number, prime))"
   ]
  },
  {
   "cell_type": "markdown",
   "metadata": {},
   "source": [
    "- main() 함수를 따로 작성하여 소수 판별 함수(is_prime)를 호출하였습니다.\n",
    "- 맵-리듀스(map-reduce)스타일로 코드를 작성하고 map() 함수를 ProcessPoolExecutor() 인스턴스에서 생성된 executor 에서 실행시킵니다.\n",
    "- concurrent.futures 라이브러리의 프로세스 풀에서 동작하게 하기 위해 with 문을 써서 구현했습니다."
   ]
  },
  {
   "cell_type": "code",
   "execution_count": 16,
   "metadata": {},
   "outputs": [],
   "source": [
    "# 병렬처리와 단일처리 비교를 위한 코드 추가\n",
    "import time\n",
    "\n",
    "def main():\n",
    "    print(\"병렬처리 시작\")\n",
    "    start = time.time()\n",
    "    with concurrent.futures.ProcessPoolExecutor() as executor:\n",
    "        for number, prime in zip(PRIMES, executor.map(is_prime, PRIMES)):\n",
    "            print('%d is prime: %s' % (number, prime))\n",
    "    end = time.time()\n",
    "    print(\"병렬처리 수행 시각\", end-start, 's')\n",
    "\n",
    "    start = time.time()\n",
    "    for number, prime in zip(PRIMES, map(is_prime, PRIMES)):\n",
    "        print('%d is prime: %s' % (number, prime))\n",
    "    end = time.time()\n",
    "    print(\"단일처리 수행 시각\", end-start, 's')"
   ]
  },
  {
   "cell_type": "markdown",
   "metadata": {},
   "source": [
    "병렬처리와 단일처리의 비교를 위해 코드를 수정했습니다. 단일처리로 수행했을 때의 코드를 추가하고, 프로파일링을 위한 시간계산 코드를 추가했습니다."
   ]
  },
  {
   "cell_type": "code",
   "execution_count": 17,
   "metadata": {},
   "outputs": [
    {
     "name": "stdout",
     "output_type": "stream",
     "text": [
      "병렬처리 시작\n",
      "112272535095293 is prime: True\n",
      "112582705942171 is prime: True\n",
      "112272535095293 is prime: True\n",
      "115280095190773 is prime: True\n",
      "115797848077099 is prime: True\n",
      "1099726899285419 is prime: False\n",
      "병렬처리 수행 시각 0.5967879295349121 s\n",
      "112272535095293 is prime: True\n",
      "112582705942171 is prime: True\n",
      "112272535095293 is prime: True\n",
      "115280095190773 is prime: True\n",
      "115797848077099 is prime: True\n",
      "1099726899285419 is prime: False\n",
      "단일처리 수행 시각 2.049428939819336 s\n"
     ]
    }
   ],
   "source": [
    "main()"
   ]
  },
  {
   "cell_type": "markdown",
   "metadata": {},
   "source": [
    "수행 시간은 PC 성능에 따라 다르지만, 병렬로 처리하면 약 0.6초 걸리고, 단일처리하면 약 2.5초가 걸렸습니다."
   ]
  }
 ],
 "metadata": {
  "kernelspec": {
   "display_name": "aiffel",
   "language": "python",
   "name": "aiffel"
  },
  "language_info": {
   "codemirror_mode": {
    "name": "ipython",
    "version": 3
   },
   "file_extension": ".py",
   "mimetype": "text/x-python",
   "name": "python",
   "nbconvert_exporter": "python",
   "pygments_lexer": "ipython3",
   "version": "3.7.9"
  }
 },
 "nbformat": 4,
 "nbformat_minor": 4
}
