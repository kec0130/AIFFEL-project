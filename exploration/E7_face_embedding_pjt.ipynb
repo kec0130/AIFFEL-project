{
 "cells": [
  {
   "cell_type": "markdown",
   "metadata": {},
   "source": [
    "# 나와 닮은 연예인 찾기\n",
    "## 1. 사진 모으기"
   ]
  },
  {
   "cell_type": "markdown",
   "metadata": {},
   "source": [
    "## 2. 얼굴 영역 자르기\n",
    "- from PIL import Image\n",
    "- face = get_gropped_face(image_path)\n",
    "- pillow_image = Image.fromarray(face)\n",
    "- pillow_image.save(path_to_save)"
   ]
  },
  {
   "cell_type": "code",
   "execution_count": 1,
   "metadata": {},
   "outputs": [
    {
     "name": "stdout",
     "output_type": "stream",
     "text": [
      "402\n"
     ]
    }
   ],
   "source": [
    "import face_recognition\n",
    "import os\n",
    "from PIL import Image\n",
    "\n",
    "dir_path = os.getenv('HOME')+'/aiffel/face_embedding/images'\n",
    "file_list = os.listdir(dir_path)\n",
    "\n",
    "print(len(file_list))"
   ]
  },
  {
   "cell_type": "code",
   "execution_count": 2,
   "metadata": {},
   "outputs": [],
   "source": [
    "# 이미지 파일에서 얼굴 영역을 가져오는 함수\n",
    "def get_gropped_face(image_file):\n",
    "    image = face_recognition.load_image_file(image_file)\n",
    "    face_locations = face_recognition.face_locations(image)\n",
    "    a, b, c, d = face_locations[0]\n",
    "    cropped_face = image[a:c,d:b,:]\n",
    "    \n",
    "    return cropped_face"
   ]
  },
  {
   "cell_type": "code",
   "execution_count": 3,
   "metadata": {},
   "outputs": [
    {
     "name": "stdout",
     "output_type": "stream",
     "text": [
      "Cropped images are saved\n"
     ]
    }
   ],
   "source": [
    "# 얼굴 영역을 잘라서 이미지로 저장하는 함수\n",
    "def save_cropped_face(dir_path):\n",
    "    file_list = os.listdir(dir_path)\n",
    "    \n",
    "    for file in file_list:\n",
    "        try:\n",
    "            img_path = os.path.join(dir_path, file)\n",
    "            face = get_gropped_face(img_path)\n",
    "            pillow_image = Image.fromarray(face)\n",
    "            path_to_save = os.path.join(save_path, file)\n",
    "            pillow_image.save(path_to_save)\n",
    "        except:\n",
    "            print(file, \"face not detected\")\n",
    "    \n",
    "    print('Cropped images are saved')\n",
    "\n",
    "save_path = os.getenv('HOME')+'/aiffel/face_embedding/images_cropped'\n",
    "save_cropped_face(dir_path)"
   ]
  },
  {
   "cell_type": "markdown",
   "metadata": {},
   "source": [
    "## 3. 얼굴 영역의 임베딩 추출하기\n",
    "- def get_face_embedding(face) : 얼굴영역으로부터 얼굴 임베딩 벡터를 구하는 함수\n",
    "- def get_face_embedding_dict(dir_path) : 디렉토리 안에 있는 모든 이미지의 임베딩 딕셔너리를 구하는 함수"
   ]
  },
  {
   "cell_type": "code",
   "execution_count": 4,
   "metadata": {},
   "outputs": [],
   "source": [
    "# 얼굴 영역으로부터 얼굴 임베딩 벡터를 구하는 함수\n",
    "def get_face_embedding(face):\n",
    "    return face_recognition.face_encodings(face)"
   ]
  },
  {
   "cell_type": "code",
   "execution_count": 5,
   "metadata": {},
   "outputs": [
    {
     "name": "stdout",
     "output_type": "stream",
     "text": [
      "Embedding dictionary was made\n"
     ]
    },
    {
     "data": {
      "text/plain": [
       "array([-0.12784436,  0.10448948,  0.00994151, -0.11465763, -0.14201827,\n",
       "       -0.0666955 , -0.07937627, -0.07665567,  0.14679766, -0.11085141,\n",
       "        0.2065116 , -0.11440607, -0.21771631, -0.09120598, -0.08811358,\n",
       "        0.25951171, -0.2395359 , -0.13590126, -0.00925686,  0.00656124,\n",
       "        0.15065549,  0.01079155, -0.05236992,  0.07051725, -0.11669068,\n",
       "       -0.31546485, -0.05581702, -0.06806715, -0.0489037 , -0.09101848,\n",
       "       -0.0101376 ,  0.0581856 , -0.17303206, -0.02759539,  0.02669946,\n",
       "        0.08334157,  0.00140176, -0.10138684,  0.15911688, -0.00163643,\n",
       "       -0.28361756, -0.02073763,  0.11070047,  0.18708329,  0.17379852,\n",
       "       -0.01911343,  0.0057533 , -0.15386668,  0.15663283, -0.16263032,\n",
       "       -0.04790429,  0.14580764,  0.05357089,  0.07113975,  0.01887064,\n",
       "       -0.12331574,  0.06889544,  0.16526967, -0.13515526, -0.03613933,\n",
       "        0.10599857, -0.1019676 , -0.01170274, -0.10200847,  0.21783955,\n",
       "        0.04580704, -0.11585851, -0.17724352,  0.15315324, -0.1097977 ,\n",
       "       -0.12094527,  0.06956137, -0.13105081, -0.17293675, -0.30989268,\n",
       "       -0.04048802,  0.34646404,  0.10492268, -0.18354364,  0.0493591 ,\n",
       "       -0.00773293, -0.00532514,  0.15467165,  0.19157991,  0.02086647,\n",
       "        0.01018782, -0.07794371, -0.0054544 ,  0.23862821, -0.04625887,\n",
       "        0.02297431,  0.20359576,  0.01409573,  0.09263622, -0.00761874,\n",
       "       -0.01653546, -0.06362577,  0.05448526, -0.08605973,  0.02179462,\n",
       "       -0.00251996, -0.03933772, -0.03591319,  0.12331896, -0.10835175,\n",
       "        0.07462826,  0.01966391,  0.04972725, -0.05875052, -0.00372662,\n",
       "       -0.04435115, -0.0260663 ,  0.09033033, -0.16976279,  0.2078817 ,\n",
       "        0.15337373,  0.06238173,  0.08728104,  0.12299115,  0.08066383,\n",
       "       -0.01980852, -0.0733167 , -0.22439905,  0.00841843,  0.11497658,\n",
       "       -0.07034395,  0.09150848, -0.02722012])"
      ]
     },
     "execution_count": 5,
     "metadata": {},
     "output_type": "execute_result"
    }
   ],
   "source": [
    "# 디렉토리 안에 있는 모든 이미지의 임베딩 딕셔너리를 구하는 함수\n",
    "def get_face_embedding_dict(dir_path):\n",
    "    file_list = os.listdir(dir_path)\n",
    "    embedding_dict = {}\n",
    "    \n",
    "    for file in file_list:\n",
    "        img_path = os.path.join(dir_path, file)\n",
    "        face = get_gropped_face(img_path)      # 얼굴 영역을 구하는 함수\n",
    "        embedding = get_face_embedding(face)   # 얼굴 임베딩 벡터를 구하는 함수\n",
    "        if len(embedding) > 0:  # 얼굴영역 face가 제대로 detect되지 않으면 len(embedding)==0인 경우가 발생하므로 \n",
    "            # os.path.splitext(file)[0]에는 이미지파일명에서 확장자를 제거한 이름이 담깁니다. \n",
    "            embedding_dict[os.path.splitext(file)[0]] = embedding[0]\n",
    "    \n",
    "    print(\"Embedding dictionary was made\")\n",
    "    return embedding_dict\n",
    "\n",
    "# 내 사진의 임베딩 딕셔너리 출력\n",
    "embedding_dict = get_face_embedding_dict(dir_path)\n",
    "embedding_dict['고은채1']"
   ]
  },
  {
   "cell_type": "markdown",
   "metadata": {},
   "source": [
    "## 4. 모은 연예인들과 비교하기\n",
    "- get_nearest_face(name, top=5)"
   ]
  },
  {
   "cell_type": "code",
   "execution_count": 6,
   "metadata": {},
   "outputs": [
    {
     "name": "stdout",
     "output_type": "stream",
     "text": [
      "0.3553166411438206\n",
      "0.26841511676106095\n",
      "0.2876819917074476\n"
     ]
    }
   ],
   "source": [
    "import numpy as np\n",
    "\n",
    "# 두 이미지 사이의 임베딩 벡터 거리를 구하는 함수\n",
    "def get_distance(name1, name2):\n",
    "    return np.linalg.norm(embedding_dict[name1]-embedding_dict[name2], ord=2)\n",
    "\n",
    "# 내 사진들끼리의 얼굴 임베딩 벡터 거리 계산\n",
    "print(get_distance('고은채1', '고은채2'))\n",
    "print(get_distance('고은채1', '고은채3'))\n",
    "print(get_distance('고은채2', '고은채3'))"
   ]
  },
  {
   "cell_type": "code",
   "execution_count": 7,
   "metadata": {},
   "outputs": [],
   "source": [
    "# name1과 name2의 거리를 비교하는 함수를 생성하되, name1은 미리 지정하고, name2는 호출시에 인자로 받도록 합니다.\n",
    "def get_sort_key_func(name1):\n",
    "    def get_distance_from_name1(name2):\n",
    "        return get_distance(name1, name2)\n",
    "    return get_distance_from_name1"
   ]
  },
  {
   "cell_type": "code",
   "execution_count": 14,
   "metadata": {},
   "outputs": [],
   "source": [
    "# 거리가 가장 가까운 순으로 출력해주는 함수\n",
    "def get_nearest_face(name, top=7):\n",
    "    sort_key_func = get_sort_key_func(name)\n",
    "    sorted_faces = sorted(embedding_dict.items(), key=lambda x:sort_key_func(x[0]))\n",
    "\n",
    "    for i in range(top+1):\n",
    "        if i == 0 :   # 첫번째로 나오는 이름은 자기 자신일 것이므로 제외합시다. \n",
    "            continue\n",
    "        if sorted_faces[i]:\n",
    "            print('순위 {} : 이름({}), 거리({})'.format(i, sorted_faces[i][0], sort_key_func(sorted_faces[i][0])))"
   ]
  },
  {
   "cell_type": "code",
   "execution_count": 34,
   "metadata": {},
   "outputs": [],
   "source": [
    "# 거리가 가장 가까운 순으로 출력해주는 함수\n",
    "def get_nearest_face(name, top=7):\n",
    "    sort_key_func = get_sort_key_func(name)\n",
    "    sorted_faces = sorted(embedding_dict.items(), key=lambda x:sort_key_func(x[0]))\n",
    "    \n",
    "    idx = 1\n",
    "    for i in range(top+1):\n",
    "        if i == 0 :   # 첫 번째로 나오는 이름은 자기 자신이므로 제외\n",
    "            continue\n",
    "        elif sorted_faces[i][0].startswith('고은채'):   # 그 외 내 사진도 제외\n",
    "            continue\n",
    "        else:\n",
    "            print('순위 {} : 이름({}), 거리({})'.format(idx, sorted_faces[i][0], sort_key_func(sorted_faces[i][0])))\n",
    "            idx += 1"
   ]
  },
  {
   "cell_type": "code",
   "execution_count": 35,
   "metadata": {
    "scrolled": true
   },
   "outputs": [
    {
     "name": "stdout",
     "output_type": "stream",
     "text": [
      "순위 1 : 이름(박소담3), 거리(0.33230266514098106)\n",
      "순위 2 : 이름(박소담4), 거리(0.3423619454554579)\n",
      "순위 3 : 이름(한채아), 거리(0.3438648248751277)\n",
      "순위 4 : 이름(박소담), 거리(0.3604217294737214)\n",
      "순위 5 : 이름(박보영), 거리(0.36116937133894456)\n"
     ]
    }
   ],
   "source": [
    "# 나와 가장 닮은 사람은 누굴까요?\n",
    "get_nearest_face('고은채1')"
   ]
  },
  {
   "cell_type": "code",
   "execution_count": 36,
   "metadata": {
    "scrolled": true
   },
   "outputs": [
    {
     "name": "stdout",
     "output_type": "stream",
     "text": [
      "순위 1 : 이름(박보영4), 거리(0.3559747794026571)\n",
      "순위 2 : 이름(박소담4), 거리(0.35937580502676747)\n",
      "순위 3 : 이름(박보영3), 거리(0.36218878376892777)\n",
      "순위 4 : 이름(박소담), 거리(0.36656870090720045)\n",
      "순위 5 : 이름(김고은5), 거리(0.37263632218191534)\n"
     ]
    }
   ],
   "source": [
    "get_nearest_face('고은채2')"
   ]
  },
  {
   "cell_type": "code",
   "execution_count": 37,
   "metadata": {},
   "outputs": [
    {
     "name": "stdout",
     "output_type": "stream",
     "text": [
      "순위 1 : 이름(박소담), 거리(0.32252258812889917)\n",
      "순위 2 : 이름(박소담4), 거리(0.33412241465104964)\n",
      "순위 3 : 이름(박소담3), 거리(0.3474402452138631)\n",
      "순위 4 : 이름(박보영4), 거리(0.3623101656441749)\n",
      "순위 5 : 이름(박보영3), 거리(0.3644643216667045)\n"
     ]
    }
   ],
   "source": [
    "get_nearest_face('고은채3')"
   ]
  },
  {
   "cell_type": "markdown",
   "metadata": {},
   "source": [
    "## 5. 다양한 재미있는 시각화 시도해 보기"
   ]
  },
  {
   "cell_type": "code",
   "execution_count": null,
   "metadata": {},
   "outputs": [],
   "source": []
  }
 ],
 "metadata": {
  "kernelspec": {
   "display_name": "aiffel",
   "language": "python",
   "name": "aiffel"
  },
  "language_info": {
   "codemirror_mode": {
    "name": "ipython",
    "version": 3
   },
   "file_extension": ".py",
   "mimetype": "text/x-python",
   "name": "python",
   "nbconvert_exporter": "python",
   "pygments_lexer": "ipython3",
   "version": "3.7.9"
  }
 },
 "nbformat": 4,
 "nbformat_minor": 4
}
