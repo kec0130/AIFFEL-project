{
 "cells": [
  {
   "cell_type": "markdown",
   "metadata": {},
   "source": [
    "# RNN\n",
    "순환신경망(RNN)은 생성한 단어를 다시 입력으로 사용하는 순환 구조를 가지고 있다. 문장의 시작과 끝을 알려주기 위해 입력 문장(Source Sentence) 앞에는 `<start>`를 붙이고, 출력 문장(Target Sentence) 끝에는 `<end>`를 붙인다."
   ]
  },
  {
   "cell_type": "code",
   "execution_count": 1,
   "metadata": {},
   "outputs": [
    {
     "name": "stdout",
     "output_type": "stream",
     "text": [
      "Source 문장: <start> 나는 밥을 먹었다 \n",
      "Target 문장:  나는 밥을 먹었다 <end>\n"
     ]
    }
   ],
   "source": [
    "sentence = \" 나는 밥을 먹었다 \"\n",
    "\n",
    "source_sentence = \"<start>\" + sentence\n",
    "target_sentence = sentence + \"<end>\"\n",
    "\n",
    "print(\"Source 문장:\", source_sentence)\n",
    "print(\"Target 문장:\", target_sentence)"
   ]
  },
  {
   "cell_type": "markdown",
   "metadata": {},
   "source": [
    "# 셰익스피어 연극 대사 생성 모델\n",
    "## 1. 데이터 전처리\n",
    "### 1-1. 데이터 불러오기"
   ]
  },
  {
   "cell_type": "code",
   "execution_count": 2,
   "metadata": {},
   "outputs": [
    {
     "name": "stdout",
     "output_type": "stream",
     "text": [
      "['First Citizen:', 'Before we proceed any further, hear me speak.', '', 'All:', 'Speak, speak.', '', 'First Citizen:', 'You are all resolved rather to die than to famish?', '']\n"
     ]
    }
   ],
   "source": [
    "import re                  # 정규표현식을 위한 Regex 지원 모듈 (문장 데이터를 정돈하기 위해) \n",
    "import numpy as np         # 변환된 문장 데이터(행렬)을 편하게 처리하기 위해\n",
    "import tensorflow as tf    # 대망의 텐서플로우!\n",
    "import os\n",
    "\n",
    "# 파일을 읽기모드로 열어 봅니다.\n",
    "file_path = os.getenv('HOME') + '/aiffel/lyricist/data/shakespeare.txt'\n",
    "with open(file_path, \"r\") as f:\n",
    "    raw_corpus = f.read().splitlines()   # 텍스트를 라인 단위로 끊어서 list 형태로 읽어옵니다.\n",
    "\n",
    "print(raw_corpus[:9])    # 앞에서부터 10라인만 화면에 출력해 볼까요?"
   ]
  },
  {
   "cell_type": "code",
   "execution_count": 3,
   "metadata": {},
   "outputs": [
    {
     "name": "stdout",
     "output_type": "stream",
     "text": [
      "Before we proceed any further, hear me speak.\n",
      "Speak, speak.\n",
      "You are all resolved rather to die than to famish?\n"
     ]
    }
   ],
   "source": [
    "# 불필요한 문장 빼고 확인\n",
    "for idx, sentence in enumerate(raw_corpus):\n",
    "    if len(sentence) == 0: continue   # 길이가 0인 문장은 건너뜁니다.\n",
    "    if sentence[-1] == \":\": continue  # 문장의 끝이 : 인 문장은 건너뜁니다.\n",
    "\n",
    "    if idx > 9: break   # 일단 문장 10개만 확인해 볼 겁니다.\n",
    "        \n",
    "    print(sentence)"
   ]
  },
  {
   "cell_type": "markdown",
   "metadata": {},
   "source": [
    "### 1-2. 정규표현식을 이용한 corpus 생성"
   ]
  },
  {
   "cell_type": "code",
   "execution_count": 4,
   "metadata": {},
   "outputs": [
    {
     "name": "stdout",
     "output_type": "stream",
     "text": [
      "<start> this is sample sentence . <end>\n"
     ]
    }
   ],
   "source": [
    "# 정규표현식으로 문장 정제\n",
    "def preprocess_sentence(sentence):\n",
    "    sentence = sentence.lower().strip()       # 소문자로 바꾸고 양쪽 공백을 삭제\n",
    "  \n",
    "    # 아래 3단계를 거쳐 sentence는 스페이스 1개를 delimeter로 하는 소문자 단어 시퀀스로 바뀝니다.\n",
    "    sentence = re.sub(r\"([?.!,¿])\", r\" \\1 \", sentence)        # 패턴의 특수문자를 만나면 특수문자 양쪽에 공백을 추가\n",
    "    sentence = re.sub(r'[\" \"]+', \" \", sentence)                  # 공백 패턴을 만나면 스페이스 1개로 치환\n",
    "    sentence = re.sub(r\"[^a-zA-Z?.!,¿]+\", \" \", sentence)  # a-zA-Z?.!,¿ 패턴을 제외한 모든 문자(공백문자까지도)를 스페이스 1개로 치환\n",
    "\n",
    "    sentence = sentence.strip()\n",
    "\n",
    "    sentence = '<start> ' + sentence + ' <end>'      # 이전 스텝에서 본 것처럼 문장 앞뒤로 <start>와 <end>를 단어처럼 붙여 줍니다\n",
    "    \n",
    "    return sentence\n",
    "\n",
    "print(preprocess_sentence(\"This @_is ;;;sample        sentence.\"))   # 이 문장이 어떻게 필터링되는지 확인해 보세요."
   ]
  },
  {
   "cell_type": "code",
   "execution_count": 5,
   "metadata": {},
   "outputs": [
    {
     "data": {
      "text/plain": [
       "['<start> before we proceed any further , hear me speak . <end>',\n",
       " '<start> speak , speak . <end>',\n",
       " '<start> you are all resolved rather to die than to famish ? <end>',\n",
       " '<start> resolved . resolved . <end>',\n",
       " '<start> first , you know caius marcius is chief enemy to the people . <end>',\n",
       " '<start> we know t , we know t . <end>',\n",
       " '<start> let us kill him , and we ll have corn at our own price . <end>',\n",
       " '<start> is t a verdict ? <end>',\n",
       " '<start> no more talking on t let it be done away , away ! <end>',\n",
       " '<start> one word , good citizens . <end>']"
      ]
     },
     "execution_count": 5,
     "metadata": {},
     "output_type": "execute_result"
    }
   ],
   "source": [
    "# corpus 생성\n",
    "corpus = []\n",
    "\n",
    "for sentence in raw_corpus:\n",
    "    if len(sentence) == 0: continue\n",
    "    if sentence[-1] == \":\": continue\n",
    "        \n",
    "    corpus.append(preprocess_sentence(sentence))\n",
    "        \n",
    "corpus[:10]"
   ]
  },
  {
   "cell_type": "markdown",
   "metadata": {},
   "source": [
    "### 1-3. corpus를 텐서로 변환\n",
    "`tf.keras.preprocessing.text.Tokenizer` 패키지는 정제된 데이터를 토큰화하고, 단어 사전(vocabulary 또는 dictionary라고 칭함)을 만들어주며, 데이터를 숫자로 변환까지 한 방에 해준다. 이 과정을 벡터화(vectorize)라 하며, 숫자로 변환된 데이터를 텐서(tensor)라고 칭한다. "
   ]
  },
  {
   "cell_type": "code",
   "execution_count": 6,
   "metadata": {},
   "outputs": [
    {
     "name": "stdout",
     "output_type": "stream",
     "text": [
      "[[   2  143   40 ...    0    0    0]\n",
      " [   2  110    4 ...    0    0    0]\n",
      " [   2   11   50 ...    0    0    0]\n",
      " ...\n",
      " [   2  149 4553 ...    0    0    0]\n",
      " [   2   34   71 ...    0    0    0]\n",
      " [   2  945   34 ...    0    0    0]] <keras_preprocessing.text.Tokenizer object at 0x7f0db0c3f510>\n"
     ]
    }
   ],
   "source": [
    "def tokenize(corpus):\n",
    "    # 텐서플로우에서 제공하는 Tokenizer 패키지를 생성\n",
    "    tokenizer = tf.keras.preprocessing.text.Tokenizer(\n",
    "        num_words=7000,  # 전체 단어의 개수 \n",
    "        filters=' ',    # 별도로 전처리 로직을 추가할 수 있습니다. 이번에는 사용하지 않겠습니다.\n",
    "        oov_token=\"<unk>\"  # out-of-vocabulary, 사전에 없었던 단어는 어떤 토큰으로 대체할지\n",
    "    )\n",
    "    tokenizer.fit_on_texts(corpus)   # 우리가 구축한 corpus로부터 Tokenizer가 사전을 자동구축하게 됩니다.\n",
    "\n",
    "    # 이후 tokenizer를 활용하여 모델에 입력할 데이터셋을 구축하게 됩니다.\n",
    "    tensor = tokenizer.texts_to_sequences(corpus)   # tokenizer는 구축한 사전으로부터 corpus를 해석해 Tensor로 변환합니다.\n",
    "\n",
    "    # 입력 데이터의 시퀀스 길이를 일정하게 맞추기 위한 padding  메소드를 제공합니다.\n",
    "    # maxlen의 디폴트값은 None입니다. 이 경우 corpus의 가장 긴 문장을 기준으로 시퀀스 길이가 맞춰집니다.\n",
    "    tensor = tf.keras.preprocessing.sequence.pad_sequences(tensor, padding='post')  \n",
    "\n",
    "    print(tensor,tokenizer)\n",
    "    return tensor, tokenizer\n",
    "\n",
    "tensor, tokenizer = tokenize(corpus)"
   ]
  },
  {
   "cell_type": "code",
   "execution_count": 7,
   "metadata": {},
   "outputs": [
    {
     "name": "stdout",
     "output_type": "stream",
     "text": [
      "[[   2  143   40  933  140  591    4  124   24  110]\n",
      " [   2  110    4  110    5    3    0    0    0    0]\n",
      " [   2   11   50   43 1201  316    9  201   74    9]]\n"
     ]
    }
   ],
   "source": [
    "# 변환된 텐서 확인\n",
    "print(tensor[:3, :10])"
   ]
  },
  {
   "cell_type": "code",
   "execution_count": 8,
   "metadata": {},
   "outputs": [
    {
     "name": "stdout",
     "output_type": "stream",
     "text": [
      "1 : <unk>\n",
      "2 : <start>\n",
      "3 : <end>\n",
      "4 : ,\n",
      "5 : .\n",
      "6 : the\n",
      "7 : and\n",
      "8 : i\n",
      "9 : to\n",
      "10 : of\n"
     ]
    }
   ],
   "source": [
    "# 단어사전 확인\n",
    "for idx in tokenizer.index_word:\n",
    "    print(idx, \":\", tokenizer.index_word[idx])\n",
    "\n",
    "    if idx >= 10: break"
   ]
  },
  {
   "cell_type": "code",
   "execution_count": 9,
   "metadata": {},
   "outputs": [
    {
     "name": "stdout",
     "output_type": "stream",
     "text": [
      "[  2 143  40 933 140 591   4 124  24 110   5   3   0   0   0   0   0   0\n",
      "   0   0]\n",
      "[143  40 933 140 591   4 124  24 110   5   3   0   0   0   0   0   0   0\n",
      "   0   0]\n"
     ]
    }
   ],
   "source": [
    "# source, target 문장 생성\n",
    "src_input = tensor[:, :-1]  # tensor에서 마지막 토큰을 잘라내서 소스 문장을 생성합니다. 마지막 토큰은 <end>가 아니라 <pad>일 가능성이 높습니다.\n",
    "tgt_input = tensor[:, 1:]    # tensor에서 <start>를 잘라내서 타겟 문장을 생성합니다.\n",
    "\n",
    "print(src_input[0])\n",
    "print(tgt_input[0])"
   ]
  },
  {
   "cell_type": "markdown",
   "metadata": {},
   "source": [
    "### 1-4. tf.data.Dataset객체 생성\n",
    "`tf.data.Dataset.from_tensor_slices()`를 이용해 corpus 텐서를 `tf.data.Dataset` 객체로 변환한다. `tf.data.Dataset`객체는 텐서플로우에서 사용할 경우 데이터 입력 파이프라인을 통한 속도 개선 및 각종 편의기능을 제공한다."
   ]
  },
  {
   "cell_type": "code",
   "execution_count": 10,
   "metadata": {},
   "outputs": [
    {
     "data": {
      "text/plain": [
       "<BatchDataset shapes: ((256, 20), (256, 20)), types: (tf.int32, tf.int32)>"
      ]
     },
     "execution_count": 10,
     "metadata": {},
     "output_type": "execute_result"
    }
   ],
   "source": [
    "BUFFER_SIZE = len(src_input)\n",
    "BATCH_SIZE = 256\n",
    "steps_per_epoch = len(src_input) // BATCH_SIZE\n",
    "\n",
    "VOCAB_SIZE = tokenizer.num_words + 1    # tokenizer가 구축한 단어사전 내 7000개와, 여기 포함되지 않은 0:<pad>를 포함하여 7001개\n",
    "\n",
    "dataset = tf.data.Dataset.from_tensor_slices((src_input, tgt_input)).shuffle(BUFFER_SIZE)\n",
    "dataset = dataset.batch(BATCH_SIZE, drop_remainder=True)\n",
    "dataset"
   ]
  },
  {
   "cell_type": "markdown",
   "metadata": {},
   "source": [
    "## 2. 모델 학습시키기"
   ]
  },
  {
   "cell_type": "code",
   "execution_count": 11,
   "metadata": {},
   "outputs": [],
   "source": [
    "# 모델 설계\n",
    "class TextGenerator(tf.keras.Model):\n",
    "    def __init__(self, vocab_size, embedding_size, hidden_size):\n",
    "        super(TextGenerator, self).__init__()\n",
    "        \n",
    "        # 1개의 Embedding 레이어, 2개의 LSTM 레이어, 1개의 Dense 레이어로 모델 구성\n",
    "        self.embedding = tf.keras.layers.Embedding(vocab_size, embedding_size)\n",
    "        self.rnn_1 = tf.keras.layers.LSTM(hidden_size, return_sequences=True)\n",
    "        self.rnn_2 = tf.keras.layers.LSTM(hidden_size, return_sequences=True)\n",
    "        self.linear = tf.keras.layers.Dense(vocab_size)\n",
    "        \n",
    "    def call(self, x):\n",
    "        out = self.embedding(x)\n",
    "        out = self.rnn_1(out)\n",
    "        out = self.rnn_2(out)\n",
    "        out = self.linear(out)\n",
    "        \n",
    "        return out\n",
    "    \n",
    "embedding_size = 256  # 워드 벡터의 차원수\n",
    "hidden_size = 1024    # LSTM 레이어의 hidden state의 차원수\n",
    "model = TextGenerator(tokenizer.num_words + 1, embedding_size , hidden_size)"
   ]
  },
  {
   "cell_type": "code",
   "execution_count": 12,
   "metadata": {
    "scrolled": true
   },
   "outputs": [
    {
     "data": {
      "text/plain": [
       "<tf.Tensor: shape=(256, 20, 7001), dtype=float32, numpy=\n",
       "array([[[-1.3488179e-04,  2.0545090e-04, -6.8485293e-05, ...,\n",
       "         -2.8124472e-04, -1.9341007e-04, -1.5093530e-04],\n",
       "        [-4.1261566e-04,  9.3093514e-04, -9.5272117e-06, ...,\n",
       "         -7.2593894e-04, -2.4706550e-04, -2.2445653e-04],\n",
       "        [-6.9906708e-04,  1.3742563e-03, -1.6904500e-04, ...,\n",
       "         -1.0758128e-03, -1.3207071e-04,  4.8679569e-05],\n",
       "        ...,\n",
       "        [ 3.0452125e-03, -4.8485575e-03,  3.0532980e-03, ...,\n",
       "          2.3620534e-03, -9.9421549e-04, -1.6056825e-03],\n",
       "        [ 3.5467697e-03, -5.4009333e-03,  3.3878849e-03, ...,\n",
       "          2.5514006e-03, -1.1909627e-03, -2.0053149e-03],\n",
       "        [ 3.9993101e-03, -5.8775288e-03,  3.6999884e-03, ...,\n",
       "          2.6934247e-03, -1.3603489e-03, -2.3872228e-03]],\n",
       "\n",
       "       [[-1.3488179e-04,  2.0545090e-04, -6.8485293e-05, ...,\n",
       "         -2.8124472e-04, -1.9341007e-04, -1.5093530e-04],\n",
       "        [-2.8173010e-05, -4.6217370e-05,  2.2204467e-05, ...,\n",
       "         -5.7969545e-04, -4.3899965e-04, -3.3048759e-04],\n",
       "        [ 8.4510968e-05,  9.1490692e-05,  1.7055505e-05, ...,\n",
       "         -1.0546126e-03, -7.2491297e-04, -4.1256222e-04],\n",
       "        ...,\n",
       "        [ 3.8902946e-03, -3.9544576e-03,  1.7357176e-03, ...,\n",
       "          1.8119371e-03, -8.6678070e-04, -1.6879656e-03],\n",
       "        [ 4.3991352e-03, -4.6847053e-03,  2.1795980e-03, ...,\n",
       "          2.0617677e-03, -1.0518091e-03, -1.9792581e-03],\n",
       "        [ 4.8331218e-03, -5.3179115e-03,  2.6073852e-03, ...,\n",
       "          2.2747826e-03, -1.2296489e-03, -2.2849035e-03]],\n",
       "\n",
       "       [[-1.3488179e-04,  2.0545090e-04, -6.8485293e-05, ...,\n",
       "         -2.8124472e-04, -1.9341007e-04, -1.5093530e-04],\n",
       "        [-1.9386911e-04,  2.1801541e-04,  8.4988453e-05, ...,\n",
       "         -4.1136527e-04, -3.2095925e-04, -4.3655522e-04],\n",
       "        [-3.1581533e-04,  2.3631778e-04,  2.4532579e-04, ...,\n",
       "         -3.4789453e-04, -4.7900865e-04, -8.1840152e-04],\n",
       "        ...,\n",
       "        [ 5.0598891e-03, -6.4639607e-03,  3.5127320e-03, ...,\n",
       "          2.2274670e-03, -1.3315314e-03, -3.2397029e-03],\n",
       "        [ 5.3662439e-03, -6.8086116e-03,  3.8811404e-03, ...,\n",
       "          2.3730621e-03, -1.4581026e-03, -3.4406884e-03],\n",
       "        [ 5.6281877e-03, -7.0922216e-03,  4.2031659e-03, ...,\n",
       "          2.4882583e-03, -1.5608658e-03, -3.6339832e-03]],\n",
       "\n",
       "       ...,\n",
       "\n",
       "       [[-1.3488179e-04,  2.0545090e-04, -6.8485293e-05, ...,\n",
       "         -2.8124472e-04, -1.9341007e-04, -1.5093530e-04],\n",
       "        [ 1.4520549e-04,  7.1191497e-04, -1.4905632e-04, ...,\n",
       "         -7.5494807e-04, -2.8126736e-04, -2.8560581e-04],\n",
       "        [ 1.8898719e-04,  9.3649933e-04, -5.0094284e-05, ...,\n",
       "         -8.9695002e-04, -5.1255140e-04, -4.9340207e-04],\n",
       "        ...,\n",
       "        [ 5.2463738e-03, -6.1041443e-03,  3.0022846e-03, ...,\n",
       "          3.2738242e-03, -1.1641289e-03, -2.9616242e-03],\n",
       "        [ 5.5046477e-03, -6.4646029e-03,  3.4004191e-03, ...,\n",
       "          3.2852122e-03, -1.3146285e-03, -3.2479647e-03],\n",
       "        [ 5.7283868e-03, -6.7672469e-03,  3.7564863e-03, ...,\n",
       "          3.2748186e-03, -1.4399285e-03, -3.5067797e-03]],\n",
       "\n",
       "       [[-1.3488179e-04,  2.0545090e-04, -6.8485293e-05, ...,\n",
       "         -2.8124472e-04, -1.9341007e-04, -1.5093530e-04],\n",
       "        [ 9.1601214e-05,  3.0121568e-04,  8.1426057e-05, ...,\n",
       "         -8.1435870e-04, -4.5198944e-04, -4.6589944e-04],\n",
       "        [ 1.8084947e-04,  2.5717079e-04,  3.5825864e-04, ...,\n",
       "         -1.0513687e-03, -5.9627596e-04, -8.4675144e-04],\n",
       "        ...,\n",
       "        [ 3.6361555e-03, -5.8321008e-03,  2.6844069e-03, ...,\n",
       "          1.9863436e-03, -8.5949810e-04, -2.0120486e-03],\n",
       "        [ 4.0958119e-03, -6.2743411e-03,  3.1022732e-03, ...,\n",
       "          2.2176607e-03, -1.0762567e-03, -2.4084535e-03],\n",
       "        [ 4.5039030e-03, -6.6473954e-03,  3.4896852e-03, ...,\n",
       "          2.4036421e-03, -1.2593421e-03, -2.7768344e-03]],\n",
       "\n",
       "       [[-1.3488179e-04,  2.0545090e-04, -6.8485293e-05, ...,\n",
       "         -2.8124472e-04, -1.9341007e-04, -1.5093530e-04],\n",
       "        [-4.8469123e-04,  1.9213717e-04, -1.7591774e-04, ...,\n",
       "         -4.9291801e-04, -3.2987009e-04, -1.6162611e-04],\n",
       "        [-5.5891142e-04,  1.6631087e-04, -8.7742425e-05, ...,\n",
       "         -3.8961531e-04, -3.8536836e-04, -4.1340315e-04],\n",
       "        ...,\n",
       "        [ 2.5327550e-03, -2.5206509e-03,  1.8410460e-03, ...,\n",
       "          2.5775416e-03,  3.8157890e-04, -7.2764687e-04],\n",
       "        [ 3.1298050e-03, -3.3119249e-03,  2.3173741e-03, ...,\n",
       "          2.7387061e-03,  1.7190065e-04, -1.0084463e-03],\n",
       "        [ 3.6881096e-03, -4.0501431e-03,  2.7651712e-03, ...,\n",
       "          2.8695434e-03, -7.5940436e-05, -1.3368247e-03]]], dtype=float32)>"
      ]
     },
     "execution_count": 12,
     "metadata": {},
     "output_type": "execute_result"
    }
   ],
   "source": [
    "# model에 데이터를 조금 태워 input shape를 결정하고 model.build()를 자동으로 호출\n",
    "for src_sample, tgt_sample in dataset.take(1): break\n",
    "model(src_sample)"
   ]
  },
  {
   "cell_type": "code",
   "execution_count": 13,
   "metadata": {},
   "outputs": [
    {
     "name": "stdout",
     "output_type": "stream",
     "text": [
      "Model: \"text_generator\"\n",
      "_________________________________________________________________\n",
      "Layer (type)                 Output Shape              Param #   \n",
      "=================================================================\n",
      "embedding (Embedding)        multiple                  1792256   \n",
      "_________________________________________________________________\n",
      "lstm (LSTM)                  multiple                  5246976   \n",
      "_________________________________________________________________\n",
      "lstm_1 (LSTM)                multiple                  8392704   \n",
      "_________________________________________________________________\n",
      "dense (Dense)                multiple                  7176025   \n",
      "=================================================================\n",
      "Total params: 22,607,961\n",
      "Trainable params: 22,607,961\n",
      "Non-trainable params: 0\n",
      "_________________________________________________________________\n"
     ]
    }
   ],
   "source": [
    "model.summary()"
   ]
  },
  {
   "cell_type": "code",
   "execution_count": 14,
   "metadata": {
    "scrolled": true
   },
   "outputs": [
    {
     "name": "stdout",
     "output_type": "stream",
     "text": [
      "Epoch 1/30\n",
      "93/93 [==============================] - 14s 145ms/step - loss: 3.4551\n",
      "Epoch 2/30\n",
      "93/93 [==============================] - 14s 146ms/step - loss: 2.7994\n",
      "Epoch 3/30\n",
      "93/93 [==============================] - 14s 147ms/step - loss: 2.6918\n",
      "Epoch 4/30\n",
      "93/93 [==============================] - 14s 148ms/step - loss: 2.5904\n",
      "Epoch 5/30\n",
      "93/93 [==============================] - 14s 148ms/step - loss: 2.5291\n",
      "Epoch 6/30\n",
      "93/93 [==============================] - 14s 149ms/step - loss: 2.4728\n",
      "Epoch 7/30\n",
      "93/93 [==============================] - 14s 149ms/step - loss: 2.4160\n",
      "Epoch 8/30\n",
      "93/93 [==============================] - 14s 149ms/step - loss: 2.3615\n",
      "Epoch 9/30\n",
      "93/93 [==============================] - 14s 150ms/step - loss: 2.3081\n",
      "Epoch 10/30\n",
      "93/93 [==============================] - 14s 150ms/step - loss: 2.2589\n",
      "Epoch 11/30\n",
      "93/93 [==============================] - 14s 150ms/step - loss: 2.2087\n",
      "Epoch 12/30\n",
      "93/93 [==============================] - 14s 150ms/step - loss: 2.1582\n",
      "Epoch 13/30\n",
      "93/93 [==============================] - 14s 150ms/step - loss: 2.1075\n",
      "Epoch 14/30\n",
      "93/93 [==============================] - 14s 150ms/step - loss: 2.0587\n",
      "Epoch 15/30\n",
      "93/93 [==============================] - 14s 151ms/step - loss: 2.0094\n",
      "Epoch 16/30\n",
      "93/93 [==============================] - 14s 151ms/step - loss: 1.9597\n",
      "Epoch 17/30\n",
      "93/93 [==============================] - 14s 151ms/step - loss: 1.9101\n",
      "Epoch 18/30\n",
      "93/93 [==============================] - 14s 151ms/step - loss: 1.8580\n",
      "Epoch 19/30\n",
      "93/93 [==============================] - 14s 151ms/step - loss: 1.8062\n",
      "Epoch 20/30\n",
      "93/93 [==============================] - 14s 151ms/step - loss: 1.7560\n",
      "Epoch 21/30\n",
      "93/93 [==============================] - 14s 151ms/step - loss: 1.7049\n",
      "Epoch 22/30\n",
      "93/93 [==============================] - 14s 151ms/step - loss: 1.6537\n",
      "Epoch 23/30\n",
      "93/93 [==============================] - 13s 143ms/step - loss: 1.6019\n",
      "Epoch 24/30\n",
      "93/93 [==============================] - 13s 139ms/step - loss: 1.5495\n",
      "Epoch 25/30\n",
      "93/93 [==============================] - 13s 140ms/step - loss: 1.4967\n",
      "Epoch 26/30\n",
      "93/93 [==============================] - 13s 140ms/step - loss: 1.4432\n",
      "Epoch 27/30\n",
      "93/93 [==============================] - 14s 151ms/step - loss: 1.3888\n",
      "Epoch 28/30\n",
      "93/93 [==============================] - 14s 151ms/step - loss: 1.3373\n",
      "Epoch 29/30\n",
      "93/93 [==============================] - 14s 152ms/step - loss: 1.2804\n",
      "Epoch 30/30\n",
      "93/93 [==============================] - 14s 151ms/step - loss: 1.2264\n"
     ]
    },
    {
     "data": {
      "text/plain": [
       "<tensorflow.python.keras.callbacks.History at 0x7f0db1030dd0>"
      ]
     },
     "execution_count": 14,
     "metadata": {},
     "output_type": "execute_result"
    }
   ],
   "source": [
    "# 모델 학습시키기\n",
    "optimizer = tf.keras.optimizers.Adam()\n",
    "loss = tf.keras.losses.SparseCategoricalCrossentropy(\n",
    "    from_logits=True,\n",
    "    reduction='none'\n",
    ")\n",
    "\n",
    "model.compile(loss=loss, optimizer=optimizer)\n",
    "model.fit(dataset, epochs=30)"
   ]
  },
  {
   "cell_type": "markdown",
   "metadata": {},
   "source": [
    "## 3. 모델 평가하기\n",
    "모델에게 작문을 시켜보고 직접 평가한다."
   ]
  },
  {
   "cell_type": "code",
   "execution_count": 15,
   "metadata": {},
   "outputs": [],
   "source": [
    "# 문장 생성 함수\n",
    "def generate_text(model, tokenizer, init_sentence=\"<start>\", max_len=20):\n",
    "    # 테스트를 위해서 입력받은 init_sentence도 일단 텐서로 변환합니다.\n",
    "    test_input = tokenizer.texts_to_sequences([init_sentence])\n",
    "    test_tensor = tf.convert_to_tensor(test_input, dtype=tf.int64)\n",
    "    end_token = tokenizer.word_index[\"<end>\"]\n",
    "\n",
    "    # 텍스트를 실제로 생성할때는 루프를 돌면서 단어 하나씩 생성해야 합니다. \n",
    "    while True:\n",
    "        predict = model(test_tensor)  # 입력받은 문장의 텐서를 입력합니다. \n",
    "        predict_word = tf.argmax(tf.nn.softmax(predict, axis=-1), axis=-1)[:, -1]   # 우리 모델이 예측한 마지막 단어가 바로 새롭게 생성한 단어가 됩니다. \n",
    "\n",
    "        # 우리 모델이 새롭게 예측한 단어를 입력 문장의 뒤에 붙여 줍니다. \n",
    "        test_tensor = tf.concat([test_tensor, tf.expand_dims(predict_word, axis=0)], axis=-1)\n",
    "\n",
    "        # 우리 모델이 <end>를 예측했거나, max_len에 도달하지 않았다면  while 루프를 또 돌면서 다음 단어를 예측해야 합니다.\n",
    "        if predict_word.numpy()[0] == end_token: break\n",
    "        if test_tensor.shape[1] >= max_len: break\n",
    "\n",
    "    generated = \"\"\n",
    "    # 생성된 tensor 안에 있는 word index를 tokenizer.index_word 사전을 통해 실제 단어로 하나씩 변환합니다. \n",
    "    for word_index in test_tensor[0].numpy():\n",
    "        generated += tokenizer.index_word[word_index] + \" \"\n",
    "\n",
    "    return generated   # 이것이 최종적으로 모델이 생성한 자연어 문장입니다."
   ]
  },
  {
   "cell_type": "code",
   "execution_count": 16,
   "metadata": {},
   "outputs": [
    {
     "data": {
      "text/plain": [
       "'<start> he s a lamb indeed , that baes like a woman . <end> '"
      ]
     },
     "execution_count": 16,
     "metadata": {},
     "output_type": "execute_result"
    }
   ],
   "source": [
    "# 문장 생성 함수 실행\n",
    "generate_text(model, tokenizer, init_sentence=\"<start> he\")"
   ]
  }
 ],
 "metadata": {
  "kernelspec": {
   "display_name": "aiffel",
   "language": "python",
   "name": "aiffel"
  },
  "language_info": {
   "codemirror_mode": {
    "name": "ipython",
    "version": 3
   },
   "file_extension": ".py",
   "mimetype": "text/x-python",
   "name": "python",
   "nbconvert_exporter": "python",
   "pygments_lexer": "ipython3",
   "version": "3.7.9"
  }
 },
 "nbformat": 4,
 "nbformat_minor": 4
}
