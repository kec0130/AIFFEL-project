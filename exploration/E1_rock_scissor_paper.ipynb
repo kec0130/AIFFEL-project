{
 "cells": [
  {
   "cell_type": "markdown",
   "metadata": {},
   "source": [
    "# 가위바위보 분류기 만들기"
   ]
  },
  {
   "cell_type": "code",
   "execution_count": 1,
   "metadata": {},
   "outputs": [],
   "source": [
    "from PIL import Image\n",
    "import os, glob\n",
    "import numpy as np\n",
    "import matplotlib.pyplot as plt\n",
    "import tensorflow as tf\n",
    "from tensorflow import keras\n",
    "import numpy as np"
   ]
  },
  {
   "cell_type": "markdown",
   "metadata": {},
   "source": [
    "## 1. 데이터 준비"
   ]
  },
  {
   "cell_type": "markdown",
   "metadata": {},
   "source": [
    "### 1-1. 이미지 사이즈 조절"
   ]
  },
  {
   "cell_type": "code",
   "execution_count": 2,
   "metadata": {},
   "outputs": [
    {
     "name": "stdout",
     "output_type": "stream",
     "text": [
      "이미지 디렉토리 경로:  /home/ssac21/aiffel/rock_scissor_paper/rock\n",
      "rock image resize complete!\n",
      "이미지 디렉토리 경로:  /home/ssac21/aiffel/rock_scissor_paper/scissor\n",
      "scissor image resize complete!\n",
      "이미지 디렉토리 경로:  /home/ssac21/aiffel/rock_scissor_paper/paper\n",
      "paper image resize complete!\n"
     ]
    }
   ],
   "source": [
    "# 이미지 사이즈 조절하는 함수 정의\n",
    "def image_resize(rsp):\n",
    "    # 이미지가 저장된 디렉토리 아래의 모든 jpg 파일 읽어오기\n",
    "    image_dir_path = os.getenv(\"HOME\") + \"/aiffel/rock_scissor_paper/\" + rsp\n",
    "    print(\"이미지 디렉토리 경로: \", image_dir_path)\n",
    "\n",
    "    images=glob.glob(image_dir_path + \"/*.jpg\")  \n",
    "\n",
    "    # 이미지 사이즈를 모두 28x28로 변경하고 저장\n",
    "    target_size=(28,28)\n",
    "    for img in images:\n",
    "        old_img=Image.open(img)\n",
    "        new_img=old_img.resize(target_size,Image.ANTIALIAS)\n",
    "        new_img.save(img,\"JPEG\")\n",
    "\n",
    "    print(rsp,  \"image resize complete!\")\n",
    "\n",
    "# 가위, 바위, 보 디렉토리에 각각 함수 실행\n",
    "image_resize(rsp=\"rock\")\n",
    "image_resize(rsp=\"scissor\")\n",
    "image_resize(rsp=\"paper\")"
   ]
  },
  {
   "cell_type": "markdown",
   "metadata": {},
   "source": [
    "### 1-2. train data 불러오기"
   ]
  },
  {
   "cell_type": "code",
   "execution_count": 3,
   "metadata": {},
   "outputs": [],
   "source": [
    "# 데이터 불러오는 함수 정의\n",
    "def load_data(img_path, number_of_data):\n",
    "    img_size=28\n",
    "    color=3\n",
    "    #이미지 데이터와 라벨(가위 : 0, 바위 : 1, 보 : 2) 데이터를 담을 행렬(matrix) 영역을 생성합니다.\n",
    "    imgs=np.zeros(number_of_data*img_size*img_size*color,dtype=np.int32).reshape(number_of_data,img_size,img_size,color)\n",
    "    labels=np.zeros(number_of_data,dtype=np.int32)\n",
    "\n",
    "    idx=0\n",
    "    for file in glob.iglob(img_path+'/scissor/*.jpg'):\n",
    "        img = np.array(Image.open(file),dtype=np.int32)\n",
    "        imgs[idx,:,:,:]=img    # 데이터 영역에 이미지 행렬을 복사\n",
    "        labels[idx]=0   # 가위 : 0\n",
    "        idx=idx+1\n",
    "\n",
    "    for file in glob.iglob(img_path+'/rock/*.jpg'):\n",
    "        img = np.array(Image.open(file),dtype=np.int32)\n",
    "        imgs[idx,:,:,:]=img    # 데이터 영역에 이미지 행렬을 복사\n",
    "        labels[idx]=1   # 바위 : 1\n",
    "        idx=idx+1       \n",
    "    \n",
    "    for file in glob.iglob(img_path+'/paper/*.jpg'):\n",
    "        img = np.array(Image.open(file),dtype=np.int32)\n",
    "        imgs[idx,:,:,:]=img    # 데이터 영역에 이미지 행렬을 복사\n",
    "        labels[idx]=2   # 보 : 2\n",
    "        idx=idx+1\n",
    "        \n",
    "    print(\"이미지 개수는 %d개 입니다.\" % idx)\n",
    "    return imgs, labels"
   ]
  },
  {
   "cell_type": "code",
   "execution_count": 4,
   "metadata": {
    "scrolled": true
   },
   "outputs": [
    {
     "name": "stdout",
     "output_type": "stream",
     "text": [
      "이미지 개수는 4500개 입니다.\n",
      "x_train shape: (4500, 28, 28, 3)\n",
      "y_train shape: (4500,)\n",
      "\n",
      "라벨:  0\n"
     ]
    },
    {
     "data": {
      "image/png": "[encoded data removed]",
      "text/plain": [
       "<Figure size 432x288 with 1 Axes>"
      ]
     },
     "metadata": {
      "needs_background": "light"
     },
     "output_type": "display_data"
    }
   ],
   "source": [
    "# train data 불러오기\n",
    "image_dir_path = os.getenv(\"HOME\") + \"/aiffel/rock_scissor_paper\"\n",
    "(x_train, y_train)=load_data(image_dir_path, 4500)  # 가위바위보 이미지 개수 총합에 주의\n",
    "x_train_norm = x_train/255.0   # 입력은 0~1 사이의 값으로 정규화\n",
    "\n",
    "# 데이터 shape 확인\n",
    "print(\"x_train shape: {}\".format(x_train.shape))\n",
    "print(\"y_train shape: {}\".format(y_train.shape))\n",
    "\n",
    "# 데이터 1개 출력해서 확인\n",
    "plt.imshow(x_train[0])\n",
    "print('\\n라벨: ', y_train[0])"
   ]
  },
  {
   "cell_type": "markdown",
   "metadata": {},
   "source": [
    "## 2. 딥러닝 모델 생성 및 훈련"
   ]
  },
  {
   "cell_type": "code",
   "execution_count": 5,
   "metadata": {},
   "outputs": [
    {
     "name": "stdout",
     "output_type": "stream",
     "text": [
      "Model에 추가된 Layer 개수:  7\n",
      "Model: \"sequential\"\n",
      "_________________________________________________________________\n",
      "Layer (type)                 Output Shape              Param #   \n",
      "=================================================================\n",
      "conv2d (Conv2D)              (None, 26, 26, 32)        896       \n",
      "_________________________________________________________________\n",
      "max_pooling2d (MaxPooling2D) (None, 13, 13, 32)        0         \n",
      "_________________________________________________________________\n",
      "conv2d_1 (Conv2D)            (None, 11, 11, 64)        18496     \n",
      "_________________________________________________________________\n",
      "max_pooling2d_1 (MaxPooling2 (None, 5, 5, 64)          0         \n",
      "_________________________________________________________________\n",
      "flatten (Flatten)            (None, 1600)              0         \n",
      "_________________________________________________________________\n",
      "dense (Dense)                (None, 64)                102464    \n",
      "_________________________________________________________________\n",
      "dense_1 (Dense)              (None, 3)                 195       \n",
      "=================================================================\n",
      "Total params: 122,051\n",
      "Trainable params: 122,051\n",
      "Non-trainable params: 0\n",
      "_________________________________________________________________\n",
      "Epoch 1/10\n",
      "141/141 [==============================] - 3s 24ms/step - loss: 0.9300 - accuracy: 0.5493\n",
      "Epoch 2/10\n",
      "141/141 [==============================] - 0s 2ms/step - loss: 0.5390 - accuracy: 0.7891\n",
      "Epoch 3/10\n",
      "141/141 [==============================] - 0s 1ms/step - loss: 0.3272 - accuracy: 0.8838\n",
      "Epoch 4/10\n",
      "141/141 [==============================] - 0s 1ms/step - loss: 0.2073 - accuracy: 0.9318\n",
      "Epoch 5/10\n",
      "141/141 [==============================] - 0s 1ms/step - loss: 0.1459 - accuracy: 0.9502\n",
      "Epoch 6/10\n",
      "141/141 [==============================] - 0s 1ms/step - loss: 0.1085 - accuracy: 0.9656\n",
      "Epoch 7/10\n",
      "141/141 [==============================] - 0s 2ms/step - loss: 0.0693 - accuracy: 0.9800\n",
      "Epoch 8/10\n",
      "141/141 [==============================] - 0s 1ms/step - loss: 0.0498 - accuracy: 0.9876\n",
      "Epoch 9/10\n",
      "141/141 [==============================] - 0s 1ms/step - loss: 0.0386 - accuracy: 0.9918\n",
      "Epoch 10/10\n",
      "141/141 [==============================] - 0s 1ms/step - loss: 0.0516 - accuracy: 0.9838\n"
     ]
    },
    {
     "data": {
      "text/plain": [
       "<tensorflow.python.keras.callbacks.History at 0x7facc11d5510>"
      ]
     },
     "execution_count": 5,
     "metadata": {},
     "output_type": "execute_result"
    }
   ],
   "source": [
    "# model 생성\n",
    "tf.random.set_seed(1234)  # 동일한 결과를 보장하기 위해 seed 고정\n",
    "model=keras.models.Sequential() # ↓사용할 이미지 특징의 수        # ↓(28x28픽셀)x3(RGB)\n",
    "model.add(keras.layers.Conv2D(32, (3,3), activation='relu', input_shape=(28,28,3)))\n",
    "model.add(keras.layers.MaxPool2D(2,2))\n",
    "model.add(keras.layers.Conv2D(64, (3,3), activation='relu')) # 사용할 이미지 특징의 수\n",
    "model.add(keras.layers.MaxPooling2D((2,2)))\n",
    "model.add(keras.layers.Flatten())\n",
    "model.add(keras.layers.Dense(64, activation='relu'))    # 분류기에 사용될 뉴런의 수(알고리즘의 복잡도)\n",
    "model.add(keras.layers.Dense(3, activation='softmax'))  # 3개의 class로 분류\n",
    "\n",
    "print('Model에 추가된 Layer 개수: ', len(model.layers))\n",
    "\n",
    "model.summary()\n",
    "\n",
    "# model 학습시키기\n",
    "model.compile(optimizer='adam',\n",
    "             loss='sparse_categorical_crossentropy',\n",
    "             metrics=['accuracy'])\n",
    "\n",
    "model.fit(x_train_norm, y_train, epochs=10)  # epochs=학습 반복 횟수"
   ]
  },
  {
   "cell_type": "markdown",
   "metadata": {},
   "source": [
    "## 3. 모델 성능 테스트"
   ]
  },
  {
   "cell_type": "markdown",
   "metadata": {},
   "source": [
    "### 3-1. test data 불러오기"
   ]
  },
  {
   "cell_type": "code",
   "execution_count": 6,
   "metadata": {},
   "outputs": [
    {
     "name": "stdout",
     "output_type": "stream",
     "text": [
      "이미지 개수는 300개 입니다.\n",
      "x_test shape: (300, 28, 28, 3)\n",
      "y_test shape: (300,)\n",
      "\n",
      "라벨:  0\n"
     ]
    },
    {
     "data": {
      "image/png": "[encoded data removed]",
      "text/plain": [
       "<Figure size 432x288 with 1 Axes>"
      ]
     },
     "metadata": {
      "needs_background": "light"
     },
     "output_type": "display_data"
    }
   ],
   "source": [
    "# 앞에서 생성한 load_data 함수로 test data 불러오기\n",
    "image_dir_path = os.getenv(\"HOME\") + \"/aiffel/rock_scissor_paper_test\"\n",
    "(x_test, y_test)=load_data(image_dir_path, 300)  # 가위바위보 이미지 개수 총합에 주의\n",
    "x_test_norm = x_test/255.0   # 입력은 0~1 사이의 값으로 정규화\n",
    "\n",
    "# 데이터 shape 확인\n",
    "print(\"x_test shape: {}\".format(x_test.shape))\n",
    "print(\"y_test shape: {}\".format(y_test.shape))\n",
    "\n",
    "# 데이터 1개 출력해서 확인\n",
    "plt.imshow(x_test[0])\n",
    "print('\\n라벨: ', y_test[0])"
   ]
  },
  {
   "cell_type": "markdown",
   "metadata": {},
   "source": [
    "### 3-2. 모델 테스트"
   ]
  },
  {
   "cell_type": "code",
   "execution_count": 7,
   "metadata": {},
   "outputs": [
    {
     "name": "stdout",
     "output_type": "stream",
     "text": [
      "10/10 - 2s - loss: 1.1023 - accuracy: 0.7767\n",
      "test_loss: 1.102266788482666 \n",
      "test_accuracy: 0.7766666412353516\n"
     ]
    }
   ],
   "source": [
    "test_loss, test_accuracy = model.evaluate(x_test_norm,y_test, verbose=2)\n",
    "print(\"test_loss: {} \".format(test_loss))\n",
    "print(\"test_accuracy: {}\".format(test_accuracy))"
   ]
  },
  {
   "cell_type": "markdown",
   "metadata": {},
   "source": [
    "***\n",
    "# 프로젝트 정리\n",
    "## 1. 데이터 준비\n",
    "- 노드에는 가위, 바위, 보 이미지를 각각 resize 하도록 코드가 분리되어 있었는데, 어차피 반복되는 코드라 함수로 만들었다. rock, scissor, paper에 해당하는 디렉토리명을 파라미터로 받는 image_resize 함수를 만들어 사용하니 코드가 간결해졌다.\n",
    "- train data를 불러오는 load_data 함수도 나중에 test data를 불러올 때 재사용할 수 있도록 약간 수정했다. 원래는 number_of_data 값이 함수 내에 직접 지정되어 있었는데 이를 파라미터로 설정하여 변경 가능하도록 만들었다.\n",
    "\n",
    "## 2. 딥러닝 모델 생성 및 훈련\n",
    "- 노드에 나온 MNIST 예제 코드를 활용했고, 이미지가 28x28 사이즈의 컬러(RGB) 이미지이므로 input_shape를 (28,28,3)으로 설정했다. 그리고 3개의 클래스로 분류해야 하므로 마지막 Dense 레이어의 값을 3으로 설정했다.\n",
    "\n",
    "## 3. 모델 성능 테스트\n",
    "- 처음에 본인 이미지 300장으로 학습시키고 다른 사람 이미지 300장으로 테스트해본 결과 정확도가 0.3정도 나왔다. 1/3이니 거의 찍어서 맞추는 수준이었다...\n",
    "\n",
    "## 4. 모델 성능 개선\n",
    "- **train data 늘리기**: 우선 train data 300장은 너무 적은 것 같았다. 사진을 더 찍어서 데이터를 늘리는 방법을 고려해보았으나, 내가 찍은 사진은 어차피 비슷비슷할 것이므로 별 의미가 없을 것 같았다. 그래서 슬랙에 올라온 다른 분들의 데이터를 모아 900장, 1200장, 1500장, 이런 식으로 늘려가며 학습시켰다. 데이터 수가 늘어날 수록 확실히 정확도가 높아졌으나, 어느 정도부터는 0.5~0.7 수준에 정체되어서 총 4500장 선에서 마무리했다.\n",
    "- **test data 재선정**: 만든 사람에 따라 이미지에 차이가 있기 때문에 최대한 손이 잘 나온 사진을 찾으려 했다. 내가 찍은 사진이 나름 흰 배경에 손 모양이 잘 보이도록 나와서 test data로 선정했다.\n",
    "- **하이퍼파라미터 튜닝**: Conv2D 레이어의 이미지 특징 수, Dense 레이어의 뉴런 수, 학습의 epoch 값을 바꿔보며 테스트를 반복해보았다. 정확한 결과 비교를 위해서는 모델이 난수의 영향을 받으면 안되므로 set_seed를 사용해 고정시켰다.\n",
    "\n",
    "## 5. 결과\n",
    "위 실행화면에 약 78%의 정확도가 나온 최선의 결과를 기록했다. 조건을 정리해보면 다음과 같다\n",
    "- 데이터\n",
    "    - train: 다른 분들 이미지 4500개\n",
    "    - test: 내 이미지 300개\n",
    "- 하이퍼파라미터\n",
    "    - 이미지 특징 수: 32, 64\n",
    "    - 뉴런 수: 64\n",
    "    - epoch: 10"
   ]
  }
 ],
 "metadata": {
  "kernelspec": {
   "display_name": "Python 3",
   "language": "python",
   "name": "python3"
  },
  "language_info": {
   "codemirror_mode": {
    "name": "ipython",
    "version": 3
   },
   "file_extension": ".py",
   "mimetype": "text/x-python",
   "name": "python",
   "nbconvert_exporter": "python",
   "pygments_lexer": "ipython3",
   "version": "3.7.6"
  }
 },
 "nbformat": 4,
 "nbformat_minor": 4
}
