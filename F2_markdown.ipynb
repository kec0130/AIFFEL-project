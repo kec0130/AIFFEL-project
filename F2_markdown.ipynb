{
 "cells": [
  {
   "cell_type": "markdown",
   "metadata": {},
   "source": [
    "# 1. 헤더\n",
    "\\#으로 제목을 넣을 수 있고, #의 개수를 늘리면 하위 제목이 된다.   \n",
    "또는 텍스트 아랫줄에 = 또는 -를 여러 개 붙이는 방법도 있다."
   ]
  },
  {
   "cell_type": "code",
   "execution_count": null,
   "metadata": {},
   "outputs": [],
   "source": [
    "# This is H1\n",
    "\n",
    "## This is H2\n",
    "\n",
    "### This is H3\n",
    "\n",
    "#### This is H4\n",
    "\n",
    "##### This is H5"
   ]
  },
  {
   "cell_type": "markdown",
   "metadata": {},
   "source": [
    "# This is H1\n",
    "\n",
    "## This is H2\n",
    "\n",
    "### This is H3\n",
    "\n",
    "#### This is H4\n",
    "\n",
    "##### This is H5"
   ]
  },
  {
   "cell_type": "code",
   "execution_count": null,
   "metadata": {},
   "outputs": [],
   "source": [
    "This is main title\n",
    "===\n",
    "\n",
    "This is sub title\n",
    "---"
   ]
  },
  {
   "cell_type": "markdown",
   "metadata": {},
   "source": [
    "\n",
    "This is main title\n",
    "===\n",
    "\n",
    "This is sub title\n",
    "---\n",
    "***"
   ]
  },
  {
   "cell_type": "markdown",
   "metadata": {},
   "source": [
    "# 2. 리스트\n",
    "순서가 있는 리스트는 숫자로 넘버링한다. 불렛 포인트는 \\* , - , + 중 아무거나 써도 상관 없다. 들여쓰기로 하위 목록을 만들 수 있다."
   ]
  },
  {
   "cell_type": "code",
   "execution_count": null,
   "metadata": {},
   "outputs": [],
   "source": [
    "1. 첫 번째\n",
    "2. 두 번째\n",
    "3. 세 번째"
   ]
  },
  {
   "cell_type": "markdown",
   "metadata": {},
   "source": [
    "1. 첫 번째\n",
    "2. 두 번째\n",
    "3. 세 번째"
   ]
  },
  {
   "cell_type": "code",
   "execution_count": null,
   "metadata": {},
   "outputs": [],
   "source": [
    "* 1단계\n",
    "  * 2단계\n",
    "    * 3단계"
   ]
  },
  {
   "cell_type": "markdown",
   "metadata": {},
   "source": [
    "* 1단계\n",
    "  * 2단계\n",
    "    * 3단계"
   ]
  },
  {
   "cell_type": "code",
   "execution_count": null,
   "metadata": {},
   "outputs": [],
   "source": [
    "* 1단계\n",
    "  - 2단계\n",
    "    + 3단계\n",
    "      + 4단계"
   ]
  },
  {
   "cell_type": "markdown",
   "metadata": {},
   "source": [
    "* 1단계\n",
    "  - 2단계\n",
    "    + 3단계\n",
    "      + 4단계\n",
    "---"
   ]
  },
  {
   "cell_type": "markdown",
   "metadata": {},
   "source": [
    "# 3. 구분선\n",
    "\\* 또는 -을 세 개 이상 쓰면 구분선을 넣을 수 있다."
   ]
  },
  {
   "cell_type": "code",
   "execution_count": null,
   "metadata": {},
   "outputs": [],
   "source": [
    "***\n",
    "---"
   ]
  },
  {
   "cell_type": "markdown",
   "metadata": {},
   "source": [
    "***\n",
    "---"
   ]
  },
  {
   "cell_type": "markdown",
   "metadata": {},
   "source": [
    "# 4. 텍스트 강조\n",
    "이탤릭체: \\* 또는 \\_ 한 개로 텍스트 양쪽을 감싼다.   \n",
    "굵은 글씨: \\* 또는 \\_ 두 개로 텍스트 양쪽을 감싼다.   \n",
    "취소선: \\~ 두 개로 텍스트 양쪽을 감싼다."
   ]
  },
  {
   "cell_type": "code",
   "execution_count": null,
   "metadata": {},
   "outputs": [],
   "source": [
    "*single asterisks*   \n",
    "_single underscores_   \n",
    "**double asterisks**   \n",
    "__double underscores__   \n",
    "~~cancelline~~"
   ]
  },
  {
   "cell_type": "markdown",
   "metadata": {},
   "source": [
    "*single asterisks*   \n",
    "_single underscores_   \n",
    "**double asterisks**   \n",
    "__double underscores__   \n",
    "~~cancelline~~\n",
    "*****"
   ]
  },
  {
   "cell_type": "markdown",
   "metadata": {},
   "source": [
    "# 5. 줄바꿈\n",
    "줄바꿈을 하려면 스페이스바를 두 번 이상 누르고 엔터키를 눌러야 한다."
   ]
  },
  {
   "cell_type": "code",
   "execution_count": null,
   "metadata": {},
   "outputs": [],
   "source": [
    "엔터키를 눌러보겠습니다.\n",
    "줄이 왜 안바뀔까요?\n",
    "\n",
    "띄어쓰기를 두 번 이상 하고  \n",
    "엔터를 눌러야 바뀝니다."
   ]
  },
  {
   "cell_type": "markdown",
   "metadata": {},
   "source": [
    "엔터키를 눌러보겠습니다.\n",
    "줄이 왜 안바뀔까요?\n",
    "\n",
    "띄어쓰기를 두 번 이상 하고  \n",
    "엔터를 눌러야 바뀝니다.\n",
    "***"
   ]
  },
  {
   "cell_type": "markdown",
   "metadata": {},
   "source": [
    "# 5. 인용문\n",
    "\\>로 인용구를 표시하고, 여러 개를 중첩할 수 있다. 인용구 안에 리스트 등 다른 요소를 추가할 수 있다."
   ]
  },
  {
   "cell_type": "code",
   "execution_count": null,
   "metadata": {},
   "outputs": [],
   "source": [
    "Someone said: \n",
    "> \"This is a blockquote.\""
   ]
  },
  {
   "cell_type": "markdown",
   "metadata": {},
   "source": [
    "Someone said: \n",
    "> \"This is a blockquote.\""
   ]
  },
  {
   "cell_type": "code",
   "execution_count": null,
   "metadata": {},
   "outputs": [],
   "source": [
    "> This is the first blockquote.\n",
    ">   > This is the second blockquote.\n",
    ">   >   > This is the third blockquote."
   ]
  },
  {
   "cell_type": "markdown",
   "metadata": {},
   "source": [
    "> This is the first blockquote.\n",
    ">   > This is the second blockquote.\n",
    ">   >   > This is the third blockquote.\n",
    "****"
   ]
  },
  {
   "cell_type": "markdown",
   "metadata": {},
   "source": [
    "# 6. 코드 블럭\n",
    "코드를 \\` 세 개로 감싸면 전체행 블럭, 한 개로 감싸면 인라인 블럭이 된다."
   ]
  },
  {
   "cell_type": "code",
   "execution_count": null,
   "metadata": {},
   "outputs": [],
   "source": [
    "```\n",
    "print(\"Hello World!\")\n",
    "```"
   ]
  },
  {
   "cell_type": "markdown",
   "metadata": {},
   "source": [
    "```\n",
    "print(\"Hello World!\")\n",
    "```"
   ]
  },
  {
   "cell_type": "code",
   "execution_count": null,
   "metadata": {},
   "outputs": [],
   "source": [
    "`print(\"Hello World!\")`를 실행하면 `Hello World!`가 출력된다."
   ]
  },
  {
   "cell_type": "markdown",
   "metadata": {},
   "source": [
    "`print(\"Hello World!\")`를 실행하면 `Hello World!`가 출력된다.\n",
    "****"
   ]
  },
  {
   "cell_type": "markdown",
   "metadata": {},
   "source": [
    "# 7. 링크\n",
    "\\[\\] 안에 링크를 걸 텍스트, () 안에 url 주소를 넣는다. 주소 옆 따옴표에는 링크에 커서를 올렸을 때 보일 설명을 넣을 수 있다."
   ]
  },
  {
   "cell_type": "code",
   "execution_count": null,
   "metadata": {},
   "outputs": [],
   "source": [
    "[Google](https://google.com, \"google link\")"
   ]
  },
  {
   "cell_type": "markdown",
   "metadata": {},
   "source": [
    "[Google](https://google.com, \"google link\")\n",
    "*****"
   ]
  },
  {
   "cell_type": "markdown",
   "metadata": {},
   "source": [
    "# 8. 표\n",
    "\\|와 -를 사용하여 표를 만들 수 있다."
   ]
  },
  {
   "cell_type": "code",
   "execution_count": null,
   "metadata": {},
   "outputs": [],
   "source": [
    "Header 1 | Header 2\n",
    "-------- | --------\n",
    "cell 1-1 | cell 1-2\n",
    "cell 2-1 | cell 2-2"
   ]
  },
  {
   "cell_type": "markdown",
   "metadata": {},
   "source": [
    "Header 1 | Header 2\n",
    "-------- | --------\n",
    "cell 1-1 | cell 1-2\n",
    "cell 2-1 | cell 2-2\n",
    "\n",
    "****"
   ]
  },
  {
   "cell_type": "markdown",
   "metadata": {},
   "source": [
    "# 9. 수식\n",
    "수식 넣을 때는 $를 사용한다. 수식을 인라인으로 넣으려면 $ 한 개, 전체 행에 넣으려면 두 개로 감싼다. 분수는 \\frac{분자}{분모} 형태로 나타낸다. 지수는 밑^지수 형태로 나타내고, 지수가 두 자리 이상이면 {}로 감싼다."
   ]
  },
  {
   "cell_type": "code",
   "execution_count": null,
   "metadata": {},
   "outputs": [],
   "source": [
    "함수는 $y = f(x)$로 나타낸다."
   ]
  },
  {
   "cell_type": "markdown",
   "metadata": {},
   "source": [
    "함수는 $y = f(x)$로 나타낸다."
   ]
  },
  {
   "cell_type": "code",
   "execution_count": null,
   "metadata": {},
   "outputs": [],
   "source": [
    "$$y = x^{10} + 3x -1$$"
   ]
  },
  {
   "cell_type": "markdown",
   "metadata": {},
   "source": [
    "$$y = x^{10} + 3x -1$$"
   ]
  },
  {
   "cell_type": "code",
   "execution_count": null,
   "metadata": {},
   "outputs": [],
   "source": [
    "Sigmoid Function : $S(x) = \\frac{1}{1 + e^{-x}}$"
   ]
  },
  {
   "cell_type": "markdown",
   "metadata": {},
   "source": [
    "Sigmoid Function : $S(x) = \\frac{1}{1 + e^{-x}}$\n",
    "****"
   ]
  }
 ],
 "metadata": {
  "kernelspec": {
   "display_name": "Python 3",
   "language": "python",
   "name": "python3"
  },
  "language_info": {
   "codemirror_mode": {
    "name": "ipython",
    "version": 3
   },
   "file_extension": ".py",
   "mimetype": "text/x-python",
   "name": "python",
   "nbconvert_exporter": "python",
   "pygments_lexer": "ipython3",
   "version": "3.7.6"
  }
 },
 "nbformat": 4,
 "nbformat_minor": 4
}
